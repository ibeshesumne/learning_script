{
 "cells": [
  {
   "cell_type": "markdown",
   "id": "4b25009f-be91-41be-936c-7dde1680cc25",
   "metadata": {},
   "source": [
    "<b style=\"font-size: 24px;\">Hang Seng Index growth and volatility correlation coefficient</b>"
   ]
  },
  {
   "cell_type": "markdown",
   "id": "d401b783-65a8-4011-a887-eb6c274b355a",
   "metadata": {},
   "source": [
    "Here attempt to compute the correlation coefficient for Hang Seng constituent stocks based on two variables: compounded annual growth rate (CAGR) in share price; and, Annualized volatility (vol) in daily returns of the share prices. \n",
    "\n",
    "The approach involved: \n",
    "1. calculate the median and standard deviation for both variables (median CAGR for constituent stocks, median vol for constituent stocks, standard deviation of both CAGR and vol);\n",
    "2. convert all data so each stock's data is represented by its distance in standard deviations from the median;\n",
    "3. compute the relationship between CAGR and vol across all Hang Seng constituent share prices as measured by standard units.\n",
    "4. produce a scatter plot that depicts this relationship. And show on the scatter plot the line of best fit for the linear relationship between the two variables.\n",
    "\n",
    "Daily returns and volatility were computed using yahoo finance collected share prices for the latest (2024-january) Hang Seng constituent components from 2010-01-01 with the output saved in a pickle file. That pickle file data becomes the start point for this analysis. \n",
    "\n",
    "Let's begin by loading the packages to use and get today's date."
   ]
  },
  {
   "cell_type": "code",
   "execution_count": 1,
   "id": "d4c88a8c-e1c5-43dd-a9e5-a8eb225b7c49",
   "metadata": {},
   "outputs": [],
   "source": [
    "import warnings\n",
    "\n",
    "# Ignore the specific FutureWarning\n",
    "warnings.filterwarnings('ignore', 'The default dtype for empty Series will be', FutureWarning)\n",
    "\n",
    "import timeit\n",
    "import pandas as pd\n",
    "import numpy as np\n",
    "import pickle\n",
    "import matplotlib.pyplot as plt\n",
    "from datetime import datetime\n",
    "\n",
    "# Get today's date\n",
    "today = datetime.today().strftime('%Y_%m_%d')"
   ]
  },
  {
   "cell_type": "markdown",
   "id": "1476c73e-b001-473a-a401-d9ef898f07b6",
   "metadata": {},
   "source": [
    "Load in data file that contains CAGR and vol for Hang Seng constituent stocks. "
   ]
  },
  {
   "cell_type": "code",
   "execution_count": 2,
   "id": "b0c40c84-a77b-4fe3-b8b1-cf6ed1af2dcc",
   "metadata": {},
   "outputs": [],
   "source": [
    "# Load in pickle file\n",
    "with open('2024_02_25_hangseng_constituent_symbols.csv_performance.pkl', 'rb') as file:\n",
    "    data = pickle.load(file)"
   ]
  },
  {
   "cell_type": "markdown",
   "id": "c2ac6c11-eddc-45bb-b245-a3dc95bb15b2",
   "metadata": {},
   "source": [
    "Create a data frame and provide summary data of the content"
   ]
  },
  {
   "cell_type": "code",
   "execution_count": 3,
   "id": "7a0d53ad-2567-45f9-bc35-12ad23bf6e48",
   "metadata": {},
   "outputs": [],
   "source": [
    "# Create a dataframe\n",
    "df = pd.DataFrame(data, columns=['Symbol', 'CAGR', 'Annualized Volatility'])\n"
   ]
  },
  {
   "cell_type": "code",
   "execution_count": 4,
   "id": "55d68ea5-8b00-480c-ae92-0625cc7c34b0",
   "metadata": {},
   "outputs": [
    {
     "name": "stdout",
     "output_type": "stream",
     "text": [
      "<class 'pandas.core.frame.DataFrame'>\n",
      "Int64Index: 51 entries, 0 to 32\n",
      "Data columns (total 3 columns):\n",
      " #   Column                 Non-Null Count  Dtype  \n",
      "---  ------                 --------------  -----  \n",
      " 0   Symbol                 51 non-null     object \n",
      " 1   CAGR                   51 non-null     float64\n",
      " 2   Annualized Volatility  51 non-null     float64\n",
      "dtypes: float64(2), object(1)\n",
      "memory usage: 1.6+ KB\n",
      "None \n",
      "\n",
      "Symbol                    object\n",
      "CAGR                     float64\n",
      "Annualized Volatility    float64\n",
      "dtype: object \n",
      "\n",
      "     Symbol   CAGR  Annualized Volatility\n",
      "0      ^HSI  -1.86                  20.38\n",
      "17  0669.HK  21.72                  40.01\n",
      "28  0027.HK  21.16                  42.89\n",
      "27  2020.HK  17.74                  44.36\n",
      "3   0700.HK  17.54                  35.03 \n",
      "\n",
      "     Symbol   CAGR  Annualized Volatility\n",
      "33  1113.HK  -4.61                  25.71\n",
      "35  2628.HK  -6.63                  31.31\n",
      "2   9988.HK -19.51                  51.18\n",
      "15  9618.HK -21.89                  58.14\n",
      "32  9888.HK -24.73                  56.72 \n",
      "\n",
      "            CAGR  Annualized Volatility\n",
      "count  51.000000              51.000000\n",
      "mean    4.361569              35.058627\n",
      "std     8.915929              13.082009\n",
      "min   -24.730000              14.890000\n",
      "25%     1.495000              23.100000\n",
      "50%     5.450000              34.590000\n",
      "75%     8.100000              43.020000\n",
      "max    21.720000              70.410000 \n",
      "\n"
     ]
    }
   ],
   "source": [
    "print(df.info(), \"\\n\")\n",
    "print(df.dtypes, \"\\n\")\n",
    "print(df.head(), \"\\n\")\n",
    "print(df.tail(), \"\\n\")\n",
    "print(df.describe(), \"\\n\")"
   ]
  },
  {
   "cell_type": "markdown",
   "id": "e597e5a5-44a2-41fa-8106-dc5623d31545",
   "metadata": {},
   "source": [
    "## Calculate the median and standard deviation for both variables"
   ]
  },
  {
   "cell_type": "code",
   "execution_count": 5,
   "id": "6a889a3c-b277-4bbd-8ecf-5c8ad0c01a9a",
   "metadata": {},
   "outputs": [
    {
     "name": "stdout",
     "output_type": "stream",
     "text": [
      "The median of the variable CAGR is: 5.45 and the standard deviation of the variable CAGR is 8.915929423800755.\n",
      "\n"
     ]
    }
   ],
   "source": [
    "# Step 1: Calculate the median and standard deviation for both variables\n",
    "median_cagr = df['CAGR'].median()\n",
    "std_dev_cagr = df['CAGR'].std()\n",
    "print(f\"The median of the variable CAGR is: {median_cagr} and the standard deviation of the variable CAGR is {std_dev_cagr}.\\n\")\n",
    "\n"
   ]
  },
  {
   "cell_type": "code",
   "execution_count": 6,
   "id": "8074b5f6-e864-4a21-9fae-b57a540f60f0",
   "metadata": {},
   "outputs": [
    {
     "name": "stdout",
     "output_type": "stream",
     "text": [
      "The median of the variable Annualized Volatility of daily returns is: 34.59 and the standard deviation of Annualized Volatility is 13.082008564376931.\n",
      "\n"
     ]
    }
   ],
   "source": [
    "median_vol = df['Annualized Volatility'].median()\n",
    "std_dev_vol = df['Annualized Volatility'].std()\n",
    "print(f\"The median of the variable Annualized Volatility of daily returns is: {median_vol} and the standard deviation of Annualized Volatility is {std_dev_vol}.\\n\")\n"
   ]
  },
  {
   "cell_type": "markdown",
   "id": "1eb91ccd-4511-4efb-887f-2f1a7465cfd1",
   "metadata": {},
   "source": [
    "## Represent each stock by its distance in standard deviation from the median for both CAGR and vol"
   ]
  },
  {
   "cell_type": "code",
   "execution_count": 7,
   "id": "45a5a780-d6ef-4586-88e8-aaaaad23af02",
   "metadata": {},
   "outputs": [
    {
     "name": "stdout",
     "output_type": "stream",
     "text": [
      " Symbol   CAGR  Annualized Volatility  CAGR_standard_units  Volatility_standard_units\n",
      "   ^HSI  -1.86                  20.38            -0.819881                  -1.086225\n",
      "0669.HK  21.72                  40.01             1.824824                   0.414309\n",
      "0027.HK  21.16                  42.89             1.762015                   0.634459\n",
      "2020.HK  17.74                  44.36             1.378432                   0.746827\n",
      "0700.HK  17.54                  35.03             1.356000                   0.033634\n",
      "2313.HK  16.72                  38.14             1.264030                   0.271365\n",
      "2899.HK  10.66                  44.16             0.584347                   0.731539\n",
      "2269.HK  10.38                  59.40             0.552943                   1.896498\n",
      "9633.HK  10.24                  36.16             0.537241                   0.120012\n",
      "0823.HK   9.77                  20.88             0.484526                  -1.048004\n",
      "1093.HK   9.67                  40.38             0.473310                   0.442593\n",
      "1299.HK   9.53                  27.57             0.457608                  -0.536615\n",
      "1928.HK   9.52                  43.15             0.456486                   0.654334\n",
      "0883.HK   8.22                  33.32             0.310680                  -0.097080\n",
      "0992.HK   7.98                  37.72             0.283762                   0.239260\n",
      "0291.HK   7.78                  38.27             0.261330                   0.281302\n",
      "9999.HK   7.61                  50.11             0.242263                   1.186362\n",
      "0981.HK   7.48                  49.97             0.227682                   1.175660\n",
      "1211.HK   7.44                  51.56             0.223196                   1.297201\n",
      "3968.HK   7.42                  35.19             0.220953                   0.045865\n",
      "0006.HK   7.22                  17.05             0.198521                  -1.340773\n",
      "2015.HK   7.07                  70.41             0.181697                   2.738112\n",
      "0388.HK   7.04                  29.45             0.178333                  -0.392906\n",
      "1088.HK   6.56                  31.87             0.124496                  -0.207919\n",
      "1109.HK   6.07                  39.15             0.069538                   0.348570\n",
      "2388.HK   5.81                  23.06             0.040377                  -0.881363\n",
      "0002.HK   5.45                  14.89             0.000000                  -1.505885\n",
      "0386.HK   5.44                  27.68            -0.001122                  -0.528206\n",
      "3988.HK   4.74                  21.96            -0.079633                  -0.965448\n",
      "0941.HK   4.70                  21.59            -0.084119                  -0.993731\n",
      "2319.HK   3.86                  34.59            -0.178333                   0.000000\n",
      "0939.HK   3.73                  23.14            -0.192913                  -0.875248\n",
      "0066.HK   3.48                  17.92            -0.220953                  -1.274269\n",
      "2318.HK   2.98                  32.99            -0.277032                  -0.122305\n",
      "0011.HK   2.56                  19.27            -0.324139                  -1.171074\n",
      "1398.HK   2.55                  24.05            -0.325261                  -0.805687\n",
      "3690.HK   2.14                  59.86            -0.371246                   1.931661\n",
      "0005.HK   1.56                  22.37            -0.436298                  -0.934107\n",
      "0003.HK   1.55                  17.58            -0.437419                  -1.300259\n",
      "0857.HK   1.44                  29.55            -0.449757                  -0.385262\n",
      "0688.HK   1.26                  35.52            -0.469945                   0.071090\n",
      "0016.HK   1.13                  22.48            -0.484526                  -0.925699\n",
      "0001.HK   0.85                  22.83            -0.515931                  -0.898945\n",
      "6690.HK   0.51                  41.37            -0.554065                   0.518269\n",
      "0267.HK  -2.44                  29.14            -0.884933                  -0.416603\n",
      "1810.HK  -4.17                  46.51            -1.078968                   0.911175\n",
      "1113.HK  -4.61                  25.71            -1.128318                  -0.678795\n",
      "2628.HK  -6.63                  31.31            -1.354878                  -0.250726\n",
      "9988.HK -19.51                  51.18            -2.799484                   1.268154\n",
      "9618.HK -21.89                  58.14            -3.066422                   1.800182\n",
      "9888.HK -24.73                  56.72            -3.384953                   1.691636\n"
     ]
    }
   ],
   "source": [
    "df['CAGR_standard_units'] = (df['CAGR'] - median_cagr) / std_dev_cagr\n",
    "df['Volatility_standard_units'] = (df['Annualized Volatility'] - median_vol) / std_dev_vol\n",
    "\n",
    "print(df[['Symbol', 'CAGR', 'Annualized Volatility', 'CAGR_standard_units', 'Volatility_standard_units']].to_string(index=False))"
   ]
  },
  {
   "cell_type": "markdown",
   "id": "3ee2a56d-2b21-4c9e-adc5-99908cb5e5cf",
   "metadata": {},
   "source": [
    "The standard units measurement for the ^HSI can be derived with reference to the previously computed median CAGR of 5.45 with standard deviation of 8.91 and median vol of 34.59 with standard deviation of 13.1. That means that the ^HSI with (CAGR of -1.86 and vol of 20.38) is -0.82  below the median in CAGR (the difference of -1.86 from 5.45 divided by 8.91). And -1.08 standard deviations below the median in vol (the difference of 20.38 and 34.59 divided by 13.1).  \n",
    "\n",
    "So in the case of the ^HSI it shows that it is below the median in CAGR and below the median in vol. "
   ]
  },
  {
   "cell_type": "markdown",
   "id": "d2b597f5-fa01-4ab9-a5f1-e74dc6a87de6",
   "metadata": {},
   "source": [
    "## Calculate the relationship between CAGR and volatility across all stocks as measured by standard units "
   ]
  },
  {
   "cell_type": "code",
   "execution_count": 8,
   "id": "00343c92-a8c4-448a-9b90-c4fef3921ed2",
   "metadata": {},
   "outputs": [
    {
     "name": "stdout",
     "output_type": "stream",
     "text": [
      "Correlation between CAGR and Volatility: -0.10405885063050635\n"
     ]
    }
   ],
   "source": [
    "correlation = df['CAGR_standard_units'].corr(df['Volatility_standard_units'])\n",
    "print(f\"Correlation between CAGR and Volatility: {correlation}\")"
   ]
  },
  {
   "cell_type": "markdown",
   "id": "f7e2995d-4463-4c9d-9e27-23ff47e27573",
   "metadata": {},
   "source": [
    "## Plot the relationship and line of best fit"
   ]
  },
  {
   "cell_type": "code",
   "execution_count": 9,
   "id": "a3757461-69ca-40d9-9612-97e0b86a5f84",
   "metadata": {},
   "outputs": [
    {
     "data": {
      "image/png": "[encoded data removed]",
      "text/plain": [
       "<Figure size 1000x600 with 1 Axes>"
      ]
     },
     "metadata": {},
     "output_type": "display_data"
    }
   ],
   "source": [
    "# Create a scatter plot\n",
    "plt.figure(figsize=(10, 6))\n",
    "plt.scatter(df['CAGR_standard_units'], df['Volatility_standard_units'])\n",
    "\n",
    "# Add a line of best fit\n",
    "m, b = np.polyfit(df['CAGR_standard_units'], df['Volatility_standard_units'], 1)\n",
    "plt.plot(df['CAGR_standard_units'], m*df['CAGR_standard_units'] + b, color='red')\n",
    "\n",
    "# Add the equation to the plot\n",
    "equation = f\"y = {m:.5f}x + {b:.5f}\"\n",
    "plt.text(df['CAGR_standard_units'].min(), m*df['CAGR_standard_units'].min() + b, equation, fontsize=14)\n",
    "\n",
    "plt.title('Correlation between CAGR and Volatility in Standard Units')\n",
    "plt.xlabel('CAGR in Standard Units')\n",
    "plt.ylabel('Volatility in Standard Units')\n",
    "plt.grid(True)\n",
    "plt.show()"
   ]
  },
  {
   "cell_type": "markdown",
   "id": "a30d1502-1df2-4a3d-85f7-3228d91f35ed",
   "metadata": {},
   "source": [
    "## Conclusion\n",
    "\n",
    "Because both variables are expressed in standard units the gradient (slope) of the line of best fit is equal to the correlation coefficient which in this case is -0.10. \n",
    "\n",
    "Since the coefficient is close to zero it implies there is a weak, negative linear relationship between CAGR and volatility. As CAGR increases or decreases there is not a strong predictable change in volatility.\n"
   ]
  },
  {
   "cell_type": "code",
   "execution_count": 10,
   "id": "85101553-4e4f-4c8f-bd55-f76e8b7acb5e",
   "metadata": {},
   "outputs": [
    {
     "name": "stdout",
     "output_type": "stream",
     "text": [
      "The equation of the line of best fit is: Volatility in Standard Units = -0.1041 * CAGR in Standard Units + 0.0231\n"
     ]
    }
   ],
   "source": [
    "# Print the equation of the line of best fit\n",
    "print(f\"The equation of the line of best fit is: Volatility in Standard Units = {m:.4f} * CAGR in Standard Units + {b:.4f}\")"
   ]
  }
 ],
 "metadata": {
  "kernelspec": {
   "display_name": "Python 3 (ipykernel)",
   "language": "python",
   "name": "python3"
  },
  "language_info": {
   "codemirror_mode": {
    "name": "ipython",
    "version": 3
   },
   "file_extension": ".py",
   "mimetype": "text/x-python",
   "name": "python",
   "nbconvert_exporter": "python",
   "pygments_lexer": "ipython3",
   "version": "3.12.1"
  }
 },
 "nbformat": 4,
 "nbformat_minor": 5
}
