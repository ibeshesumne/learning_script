{
 "cells": [
  {
   "cell_type": "markdown",
   "id": "8195c63d-7380-42a8-a735-a1a6ddec338d",
   "metadata": {},
   "source": [
    "# Swire Pacific's imputed valuation of unlisted business"
   ]
  },
  {
   "cell_type": "markdown",
   "id": "000984ba-acd0-405e-9bdc-5a71d54756d3",
   "metadata": {},
   "source": [
    "The script below attempts to broadly track how the conglomerate's valuation of its unlisted businesses have changed over time. There is no investment conclusion as it is a learning exercise designed to use Python to try and understand the company better and for general interest. \n",
    "\n",
    "Swire Pacific is an interesting use case to do the analysis as it has a dual share structure of A shares and B shares. These two shares trade with different symbols on the Hong Kong stock exchange for the A shares (0019.HK) and for the B shares (0087.HK). Different voting rights are ascribed to each class of shares with A shares carrying 5 votes and each B share carrying 1 vote. \n",
    "\n",
    "So the combined market capitalization for the group is the sum of the market capitalization for the A shares and the B shares. The code first sets out to derive the market capitalization for the group over time. \n",
    "\n",
    "To derive the imputed valuation for the unlisted business of the group we have deducted from the group market capitalization the attributable share in the market capitalization of Swire Properties (1972.HK) in which Swire Pacific's interest is 82% and the attributable interest of Cathay Pacific (0293.HK) in which Swire Pacific holds 45%. The second part of the code sets out to show that. \n",
    "\n",
    "Once the listed portion of market capitalization has been stripped from the group market capitalization the share of what is left is computed and plotted in a chart. Let us go."
   ]
  },
  {
   "cell_type": "markdown",
   "id": "85b29aa4-a167-44a4-8e1d-ed5ce6c21da2",
   "metadata": {},
   "source": [
    "## 1. Market cap for Swire Pacific"
   ]
  },
  {
   "cell_type": "markdown",
   "id": "fc4e401e-8007-4ec2-910f-33468e51cdfd",
   "metadata": {},
   "source": [
    "### Swire Pacific - basic financial data"
   ]
  },
  {
   "cell_type": "code",
   "execution_count": 2,
   "id": "71f4f307-a7b6-4f6a-998b-f3ae13207137",
   "metadata": {},
   "outputs": [
    {
     "name": "stdout",
     "output_type": "stream",
     "text": [
      "         date  a_eps  b_eps  a_dps  b_dps  a_bvps  b_bvps  \\\n",
      "7  2020-12-31  -7.61  -1.52   1.70   0.34  174.66   34.93   \n",
      "8  2021-12-31   2.24   0.45   2.60   0.52  177.49   35.50   \n",
      "9  2022-12-31   2.81   0.56   3.00   0.60  177.75   35.55   \n",
      "10 2023-12-31  19.96   3.99  11.32   2.26  186.03   37.21   \n",
      "11 2024-12-31   7.32   1.56   3.00   0.60  186.00   37.20   \n",
      "\n",
      "    shareholders_equity  reported_net  a_count  b_count  yoy_a_eps_chg  \\\n",
      "7                262266        -11420    905.2   2981.8         -226.8   \n",
      "8                266515          3357    905.2   2981.8         -129.4   \n",
      "9                258456          4195    865.8   2941.1           25.4   \n",
      "10               268129         29838    856.8   2922.3          610.3   \n",
      "11               268129         10447    856.0   2922.0          -63.3   \n",
      "\n",
      "    yoy_b_eps_chg  yoy_a_dps_chg  yoy_b_dps_chg  yoy_a_bvps_chg  \\\n",
      "7          -226.7          -43.3          -43.3            -4.1   \n",
      "8          -129.6           52.9           52.9             1.6   \n",
      "9            24.4           15.4           15.4             0.1   \n",
      "10          612.5          277.3          276.7             4.7   \n",
      "11          -60.9          -73.5          -73.5            -0.0   \n",
      "\n",
      "    yoy_b_bvps_chg  yoy_shquity_chg  yoy_reported_net_chg  \n",
      "7             -4.1             -4.1                -226.8  \n",
      "8              1.6              1.6                -129.4  \n",
      "9              0.1             -3.0                  25.0  \n",
      "10             4.7              3.7                 611.3  \n",
      "11            -0.0              0.0                 -65.0  \n"
     ]
    }
   ],
   "source": [
    "# create a dataframe of key financials for Swire Pacific (with assumptions made for fiscal year 2024)\n",
    "# extracted from published annual reports\n",
    "# forecast made for FY2024 - no responsibility for these numbers\n",
    "\n",
    "import pandas as pd\n",
    "\n",
    "# Specific end-of-year dates\n",
    "dates = [\"2013-12-31\", \"2014-12-31\", \"2015-12-31\", \"2016-12-31\", \n",
    "         \"2017-12-31\", \"2018-12-31\", \"2019-12-31\", \"2020-12-31\", \"2021-12-31\", \n",
    "         \"2022-12-31\", \"2023-12-31\", \"2024-12-31\"]\n",
    "\n",
    "# Corrected EPS, DPS and BVPS values for each date\n",
    "areportedeps = [8.83, 7.36, 8.93, 6.41, 17.34, 15.74, 6, -7.61, 2.24, 2.81, 19.96, 7.32]\n",
    "breportedeps = [1.77, 1.47, 1.79, 1.28, 3.47, 3.15, 1.2, -1.52, 0.45, 0.56, 3.99, 1.56]\n",
    "adps = [3.5, 3.9, 3.9, 2.1, 2.1, 3, 3, 1.7, 2.6, 3, 11.32, 3 ]\n",
    "bdps = [0.7, 0.78, 0.78, 0.42, 0.42, 0.6, 0.6, 0.34, 0.52, 0.6, 2.26, 0.6]\n",
    "abvps = [146.41, 145.4, 145.22, 149.5, 168.58, 180.09, 182.04, 174.66, 177.49, 177.75, 186.03, 186 ]\n",
    "bbvps = [29.28, 29.08, 29.04, 29.9, 33.72, 36.02, 36.41, 34.93, 35.5, 35.55, 37.21, 37.2]\n",
    "shareeq = [220297, 218775, 218449, 224879, 253163, 270424, 273352, 262266, 266515, 258456, 268129, 268129 ]\n",
    "reportednet = [13297, 11069, 13429, 9644, 26070, 23629, 9007, -11420, 3357, 4195, 29838, 10447 ]\n",
    "asharecount = [905.5, 905.5, 905.4, 905.2, 905.2, 905.2, 905.2, 905.2, 905.2, 865.8, 856.8, 856]\n",
    "bsharecount = [2995.2, 2995.2, 2995.2, 2995.2, 2990.8, 2981.8 ,2981.8, 2981.8, 2981.8, 2941.1, 2922.3, 2922]\n",
    "\n",
    "\n",
    "# Creating the DataFrame\n",
    "df = pd.DataFrame({\n",
    "    \"date\": dates,\n",
    "    \"a_eps\": areportedeps,\n",
    "    \"b_eps\": breportedeps,\n",
    "    \"a_dps\": adps,\n",
    "    \"b_dps\": bdps,\n",
    "    \"a_bvps\": abvps,\n",
    "    \"b_bvps\": bbvps,\n",
    "    \"shareholders_equity\": shareeq,\n",
    "    \"reported_net\": reportednet,\n",
    "    \"a_count\": asharecount,\n",
    "    \"b_count\": bsharecount\n",
    "    })\n",
    "\n",
    "# Convert the 'date' column to datetime\n",
    "df[\"date\"] = pd.to_datetime(df[\"date\"])\n",
    "\n",
    "# Sort the DataFrame by the 'date' column\n",
    "df = df.sort_values(by=\"date\")\n",
    "\n",
    "# Calculate year-on-year percentage change for EPS and DPS and round to one decimal place\n",
    "df['yoy_a_eps_chg'] = df['a_eps'].pct_change().mul(100).round(1)\n",
    "df['yoy_b_eps_chg'] = df['b_eps'].pct_change().mul(100).round(1)\n",
    "df['yoy_a_dps_chg'] = df['a_dps'].pct_change().mul(100).round(1)\n",
    "df['yoy_b_dps_chg'] = df['b_dps'].pct_change().mul(100).round(1)\n",
    "df['yoy_a_bvps_chg'] = df['a_bvps'].pct_change().mul(100).round(1)\n",
    "df['yoy_b_bvps_chg'] = df['b_bvps'].pct_change().mul(100).round(1)\n",
    "df['yoy_shquity_chg'] = df['shareholders_equity'].pct_change().mul(100).round(1)\n",
    "df['yoy_reported_net_chg'] = df['reported_net'].pct_change().mul(100).round(1)\n",
    "\n",
    "# Format EPS and DPS as strings with two decimal places - uncheck if required.\n",
    "#df['eps'] = df['eps'].map('{:.2f}'.format)\n",
    "#df['dps'] = df['dps'].map('{:.2f}'.format)\n",
    "\n",
    "# Print the DataFrame\n",
    "print(df.tail())\n",
    "\n",
    "# Save the DataFrame to a CSV file - uncheck to save\n",
    "#df.to_csv(\"swire_fin_data.csv\", index=False)\n",
    "\n",
    "# save as pickle file - uncheck to save\n",
    "#df.to_pickle(\"swire_fin_data.pkl\")\n"
   ]
  },
  {
   "cell_type": "markdown",
   "id": "42262784-012d-446c-baf1-ec83389612f7",
   "metadata": {},
   "source": [
    "### Derive market capitalization for Swire Pacific's A class of shares"
   ]
  },
  {
   "cell_type": "code",
   "execution_count": 3,
   "id": "79c34a76-d91f-4a09-ac78-6acef0bf7e7d",
   "metadata": {},
   "outputs": [
    {
     "name": "stderr",
     "output_type": "stream",
     "text": [
      "[*********************100%%**********************]  1 of 1 completed"
     ]
    },
    {
     "name": "stdout",
     "output_type": "stream",
     "text": [
      "          date  adj_close  year  a_count     mkt_cap_A\n",
      "0   2013-01-06  54.769825  2013    905.5  49594.076521\n",
      "1   2013-01-13  54.827959  2013    905.5  49646.716584\n",
      "2   2013-01-20  55.294843  2013    905.5  50069.480601\n",
      "3   2013-01-27  55.351093  2013    905.5  50120.414285\n",
      "4   2013-02-03  55.896732  2013    905.5  50614.491125\n",
      "..         ...        ...   ...      ...           ...\n",
      "580 2024-02-18  61.699999  2024    856.0  52815.199565\n",
      "581 2024-02-25  63.560001  2024    856.0  54407.361176\n",
      "582 2024-03-03  63.730000  2024    856.0  54552.880261\n",
      "583 2024-03-10  62.600001  2024    856.0  53585.600653\n",
      "584 2024-03-17  65.739999  2024    856.0  56273.439478\n",
      "\n",
      "[585 rows x 5 columns]\n"
     ]
    },
    {
     "name": "stderr",
     "output_type": "stream",
     "text": [
      "\n"
     ]
    }
   ],
   "source": [
    "# compute weekly market cap for swire A shares\n",
    "\n",
    "import pandas as pd\n",
    "import yfinance as yf\n",
    "import matplotlib.pyplot as plt  # Import matplotlib for plotting\n",
    "\n",
    "yf.pdr_override()  # Override the default data source\n",
    "\n",
    "def download_and_convert_to_weekly(stock_symbol, start_date, end_date):\n",
    "    try:\n",
    "        # Download daily stock data\n",
    "        daily_data = yf.download(stock_symbol, start=start_date, end=end_date)\n",
    "\n",
    "        # Convert daily data to weekly data and select 'Adj Close' only\n",
    "        weekly_data = daily_data['Adj Close'].resample('W').mean()\n",
    "\n",
    "        return weekly_data\n",
    "\n",
    "    except Exception as e:\n",
    "        print(f\"An error occurred: {e}\")\n",
    "        return None\n",
    "\n",
    "# Usage\n",
    "stock_symbol = '0019.HK'  # Swire Pacific A shares \n",
    "start_date = '2013-01-01'\n",
    "end_date = '2026-12-31'\n",
    "\n",
    "weekly_data = download_and_convert_to_weekly(stock_symbol, start_date, end_date)\n",
    "if weekly_data is not None:\n",
    "    # Reset the index so that the date becomes a column\n",
    "    weekly_data_reset = weekly_data.reset_index()\n",
    "\n",
    "    # Rename columns\n",
    "    weekly_data_reset.columns = ['date', 'adj_close']\n",
    "\n",
    "# Load data from basic financial info\n",
    "swire_fin_data = df\n",
    "\n",
    "# Extract the year from the date columns\n",
    "swire_fin_data['year'] = swire_fin_data['date'].dt.year\n",
    "weekly_data_reset['year'] = weekly_data_reset['date'].dt.year\n",
    "\n",
    "# Merge the two dataframes on the year column\n",
    "weekly_data_reset_merge_A = pd.merge(weekly_data_reset, swire_fin_data[['year', 'a_count']], on='year', how='left')\n",
    "\n",
    "# compute market cap for a_count as a fresh column labelled mkt_cap_A as product of weekly adj_close and a_count\n",
    "weekly_data_reset_merge_A['mkt_cap_A'] = weekly_data_reset_merge_A['adj_close'] * weekly_data_reset_merge_A['a_count']\n",
    "\n",
    "# Print the weekly data\n",
    "print(weekly_data_reset_merge_A)\n"
   ]
  },
  {
   "cell_type": "markdown",
   "id": "cbdf2b43-f693-4591-8240-eef86559a76b",
   "metadata": {},
   "source": [
    "### Derive market capitalization for Swire Pacific's B class of shares"
   ]
  },
  {
   "cell_type": "code",
   "execution_count": 4,
   "id": "5f14160b-97c7-4670-8f4a-780cffc535b1",
   "metadata": {},
   "outputs": [
    {
     "name": "stderr",
     "output_type": "stream",
     "text": [
      "[*********************100%%**********************]  1 of 1 completed"
     ]
    },
    {
     "name": "stdout",
     "output_type": "stream",
     "text": [
      "          date  adj_close  year  b_count     mkt_cap_B\n",
      "0   2013-01-06   9.049626  2013   2995.2  27105.440845\n",
      "1   2013-01-13   9.057003  2013   2995.2  27127.536592\n",
      "2   2013-01-20   9.209898  2013   2995.2  27585.485903\n",
      "3   2013-01-27   9.346700  2013   2995.2  27995.237271\n",
      "4   2013-02-03   9.523735  2013   2995.2  28525.491211\n",
      "..         ...        ...   ...      ...           ...\n",
      "580 2024-02-18   9.416667  2024   2922.0  27515.500929\n",
      "581 2024-02-25   9.620000  2024   2922.0  28109.639666\n",
      "582 2024-03-03   9.964000  2024   2922.0  29114.807822\n",
      "583 2024-03-10   9.810000  2024   2922.0  28664.820111\n",
      "584 2024-03-17  10.274000  2024   2922.0  30020.628490\n",
      "\n",
      "[585 rows x 5 columns]\n"
     ]
    },
    {
     "name": "stderr",
     "output_type": "stream",
     "text": [
      "\n"
     ]
    }
   ],
   "source": [
    "# compute weekly market cap for swire B shares\n",
    "\n",
    "import pandas as pd\n",
    "import yfinance as yf\n",
    "import matplotlib.pyplot as plt  # Import matplotlib for plotting\n",
    "\n",
    "yf.pdr_override()  # Override the default data source\n",
    "\n",
    "def download_and_convert_to_weekly(stock_symbol, start_date, end_date):\n",
    "    try:\n",
    "        # Download daily stock data\n",
    "        daily_data = yf.download(stock_symbol, start=start_date, end=end_date)\n",
    "\n",
    "        # Convert daily data to weekly data and select 'Adj Close' only\n",
    "        weekly_data = daily_data['Adj Close'].resample('W').mean()\n",
    "\n",
    "        return weekly_data\n",
    "\n",
    "    except Exception as e:\n",
    "        print(f\"An error occurred: {e}\")\n",
    "        return None\n",
    "\n",
    "# Usage\n",
    "stock_symbol = '0087.HK'  # Swire Pacific B shares \n",
    "start_date = '2013-01-01'\n",
    "end_date = '2026-12-31'\n",
    "\n",
    "weekly_data = download_and_convert_to_weekly(stock_symbol, start_date, end_date)\n",
    "if weekly_data is not None:\n",
    "    # Reset the index so that the date becomes a column\n",
    "    weekly_data_reset = weekly_data.reset_index()\n",
    "\n",
    "    # Rename columns\n",
    "    weekly_data_reset.columns = ['date', 'adj_close']\n",
    "\n",
    "# Load data from basic financial info\n",
    "swire_fin_data = df\n",
    "\n",
    "# Extract the year from the date columns\n",
    "swire_fin_data['year'] = swire_fin_data['date'].dt.year\n",
    "weekly_data_reset['year'] = weekly_data_reset['date'].dt.year\n",
    "\n",
    "# Merge the two dataframes on the year column\n",
    "weekly_data_reset_merge_B = pd.merge(weekly_data_reset, swire_fin_data[['year', 'b_count']], on='year', how='left')\n",
    "\n",
    "# compute market cap for a_count as a fresh column labelled mkt_cap_B as product of weekly adj_close and b_count\n",
    "weekly_data_reset_merge_B['mkt_cap_B'] = weekly_data_reset_merge_B['adj_close'] * weekly_data_reset_merge_B['b_count']\n",
    "\n",
    "# Print the weekly data\n",
    "print(weekly_data_reset_merge_B)\n"
   ]
  },
  {
   "cell_type": "markdown",
   "id": "f38909dd-306c-465e-9fdc-2d7af34767ab",
   "metadata": {},
   "source": [
    "### Merge the A class and B class market capitalization"
   ]
  },
  {
   "cell_type": "code",
   "execution_count": 5,
   "id": "41491cdd-f27b-49cb-9fa5-12e605c512f4",
   "metadata": {},
   "outputs": [
    {
     "name": "stdout",
     "output_type": "stream",
     "text": [
      "          date  adj_close_x  year_x  a_count     mkt_cap_A  adj_close_y  \\\n",
      "0   2013-01-06    54.769825    2013    905.5  49594.076521     9.049626   \n",
      "1   2013-01-13    54.827959    2013    905.5  49646.716584     9.057003   \n",
      "2   2013-01-20    55.294843    2013    905.5  50069.480601     9.209898   \n",
      "3   2013-01-27    55.351093    2013    905.5  50120.414285     9.346700   \n",
      "4   2013-02-03    55.896732    2013    905.5  50614.491125     9.523735   \n",
      "..         ...          ...     ...      ...           ...          ...   \n",
      "580 2024-02-18    61.699999    2024    856.0  52815.199565     9.416667   \n",
      "581 2024-02-25    63.560001    2024    856.0  54407.361176     9.620000   \n",
      "582 2024-03-03    63.730000    2024    856.0  54552.880261     9.964000   \n",
      "583 2024-03-10    62.600001    2024    856.0  53585.600653     9.810000   \n",
      "584 2024-03-17    65.739999    2024    856.0  56273.439478    10.274000   \n",
      "\n",
      "     year_y  b_count     mkt_cap_B       mkt_cap  \n",
      "0      2013   2995.2  27105.440845  76699.517366  \n",
      "1      2013   2995.2  27127.536592  76774.253176  \n",
      "2      2013   2995.2  27585.485903  77654.966504  \n",
      "3      2013   2995.2  27995.237271  78115.651556  \n",
      "4      2013   2995.2  28525.491211  79139.982336  \n",
      "..      ...      ...           ...           ...  \n",
      "580    2024   2922.0  27515.500929  80330.700493  \n",
      "581    2024   2922.0  28109.639666  82517.000841  \n",
      "582    2024   2922.0  29114.807822  83667.688083  \n",
      "583    2024   2922.0  28664.820111  82250.420765  \n",
      "584    2024   2922.0  30020.628490  86294.067968  \n",
      "\n",
      "[585 rows x 10 columns]\n"
     ]
    }
   ],
   "source": [
    "# merge swire_A_weekly_data_merge.pkl and swire_B_weekly_data_merge.pkl into swire_weekly_mktcap data frame\n",
    "\n",
    "import pandas as pd\n",
    "import os\n",
    "\n",
    "# Load the swire_A_weekly_data_merge.pkl file\n",
    "swire_A_weekly_data_merge = weekly_data_reset_merge_A\n",
    "\n",
    "# Load the swire_B_weekly_data_merge.pkl file\n",
    "swire_B_weekly_data_merge = weekly_data_reset_merge_B\n",
    "\n",
    "# Merge the two dataframes on the date column\n",
    "swire_weekly_mktcap = pd.merge(weekly_data_reset_merge_A, weekly_data_reset_merge_B, on='date', how='outer')\n",
    "\n",
    "# add a column to the dataframe labelled mkt_cap which is the sum of mkt_cap_A and mkt_cap_B\n",
    "swire_weekly_mktcap['mkt_cap'] = swire_weekly_mktcap['mkt_cap_A'] + swire_weekly_mktcap['mkt_cap_B']\n",
    "\n",
    "# Print the merged dataframe\n",
    "print(swire_weekly_mktcap)\n",
    "\n"
   ]
  },
  {
   "cell_type": "markdown",
   "id": "97ec662b-8488-401b-ae4f-5727cf232ede",
   "metadata": {},
   "source": [
    "## 2. Listed entity market capitalization "
   ]
  },
  {
   "cell_type": "markdown",
   "id": "b2afd400-0b3a-4e39-a386-484141b3d433",
   "metadata": {},
   "source": [
    "### Swire Properties - basic financial data "
   ]
  },
  {
   "cell_type": "code",
   "execution_count": 6,
   "id": "f91d75da-8ebe-40af-b85c-5e07775973fb",
   "metadata": {},
   "outputs": [
    {
     "name": "stdout",
     "output_type": "stream",
     "text": [
      "         date   eps   dps   bvps  sharecount  swirepacshareofsp  yoy_eps_chg  \\\n",
      "7  2020-12-31  0.61  0.91  49.27        5850                 82        -73.4   \n",
      "8  2021-12-31  1.22  0.95  49.85        5850                 82        100.0   \n",
      "9  2022-12-31  1.36  1.00  49.44        5850                 82         11.5   \n",
      "10 2023-12-31  0.45  1.05  48.73        5850                 82        -66.9   \n",
      "11 2024-12-31  0.45  1.05  48.13        5850                 82          0.0   \n",
      "\n",
      "    yoy_dps_chg  yoy_bvps_chg  \n",
      "7           3.4           0.4  \n",
      "8           4.4           1.2  \n",
      "9           5.3          -0.8  \n",
      "10          5.0          -1.4  \n",
      "11          0.0          -1.2  \n"
     ]
    }
   ],
   "source": [
    "# data extracted from published annual reports \n",
    "# forecast made for FY2024 - no responsibility for these numbers\n",
    "\n",
    "import pandas as pd\n",
    "\n",
    "# Specific end-of-year dates\n",
    "dates = [\"2013-12-31\", \"2014-12-31\", \"2015-12-31\", \"2016-12-31\", \n",
    "         \"2017-12-31\", \"2018-12-31\", \"2019-12-31\", \"2020-12-31\", \"2021-12-31\", \n",
    "         \"2022-12-31\", \"2023-12-31\", \"2024-12-31\"]\n",
    "\n",
    "# Corrected EPS, DPS and BVPS values for each date\n",
    "eps = [2.14, 1.63, 2.41, 2.57, 5.8, 4.9, 2.29, 0.61, 1.22, 1.36, 0.45, 0.45]\n",
    "dps = [0.60, 0.66, 0.71, 0.71, 0.77, 0.84, 0.88, 0.91, 0.95, 1, 1.05, 1.05]\n",
    "bvps = [34.59, 35.2, 36.97, 38.52, 44, 47.74, 49.05, 49.27, 49.85, 49.44, 48.73, 48.13]\n",
    "sharecount = [5850, 5850, 5850, 5850, 5850, 5850, 5850, 5850, 5850, 5850, 5850, 5850]\n",
    "swirepacshareofsp = [82,82,82,82,82,82,82,82,82,82,82,82]\n",
    "\n",
    "# Creating the DataFrame\n",
    "dfsp = pd.DataFrame({\n",
    "    \"date\": dates,\n",
    "    \"eps\": eps,\n",
    "    \"dps\": dps,\n",
    "    \"bvps\": bvps,\n",
    "    \"sharecount\": sharecount,\n",
    "    \"swirepacshareofsp\": swirepacshareofsp\n",
    "\n",
    "    })\n",
    "\n",
    "# Convert the 'date' column to datetime\n",
    "dfsp[\"date\"] = pd.to_datetime(dfsp[\"date\"])\n",
    "\n",
    "# Sort the DataFrame by the 'date' column\n",
    "dfsp = dfsp.sort_values(by=\"date\")\n",
    "\n",
    "# Calculate year-on-year percentage change for EPS and DPS and round to one decimal place\n",
    "dfsp['yoy_eps_chg'] = dfsp['eps'].pct_change().mul(100).round(1)\n",
    "dfsp['yoy_dps_chg'] = dfsp['dps'].pct_change().mul(100).round(1)\n",
    "dfsp['yoy_bvps_chg'] = dfsp['bvps'].pct_change().mul(100).round(1)\n",
    "\n",
    "# Format EPS and DPS as strings with two decimal places - uncheck if required.\n",
    "#df['eps'] = df['eps'].map('{:.2f}'.format)\n",
    "#df['dps'] = df['dps'].map('{:.2f}'.format)\n",
    "\n",
    "# Print the DataFrame\n",
    "print(dfsp.tail())\n"
   ]
  },
  {
   "cell_type": "markdown",
   "id": "4e473191-39f6-4e64-ab48-73ad64c4bea8",
   "metadata": {},
   "source": [
    "### Swire Pacific's interest in Swire Properties market capitalization "
   ]
  },
  {
   "cell_type": "code",
   "execution_count": 7,
   "id": "16263a5d-5136-4638-a3e4-e2ce29f69759",
   "metadata": {},
   "outputs": [
    {
     "name": "stderr",
     "output_type": "stream",
     "text": [
      "[*********************100%%**********************]  1 of 1 completed"
     ]
    },
    {
     "name": "stdout",
     "output_type": "stream",
     "text": [
      "          date  adj_close  year  sharecount  swirepacshareofsp        mkt_cap  \\\n",
      "0   2013-01-06  18.103484  2013        5850                 82  105905.380440   \n",
      "1   2013-01-13  18.340012  2013        5850                 82  107289.070072   \n",
      "2   2013-01-20  18.919962  2013        5850                 82  110681.775055   \n",
      "3   2013-01-27  18.926786  2013        5850                 82  110721.696110   \n",
      "4   2013-02-03  19.302043  2013        5850                 82  112916.952438   \n",
      "..         ...        ...   ...         ...                ...            ...   \n",
      "580 2024-02-18  15.040000  2024        5850                 82   87983.999777   \n",
      "581 2024-02-25  15.680000  2024        5850                 82   91728.000669   \n",
      "582 2024-03-03  15.928000  2024        5850                 82   93178.798170   \n",
      "583 2024-03-10  15.668000  2024        5850                 82   91657.800179   \n",
      "584 2024-03-17  16.300000  2024        5850                 82   95354.997768   \n",
      "\n",
      "     attrib_mkt_cap_swireproperties_to_swirepac  \n",
      "0                                  86842.411961  \n",
      "1                                  87977.037459  \n",
      "2                                  90759.055545  \n",
      "3                                  90791.790810  \n",
      "4                                  92591.900999  \n",
      "..                                          ...  \n",
      "580                                72146.879817  \n",
      "581                                75216.960549  \n",
      "582                                76406.614499  \n",
      "583                                75159.396146  \n",
      "584                                78191.098170  \n",
      "\n",
      "[585 rows x 7 columns]\n"
     ]
    },
    {
     "name": "stderr",
     "output_type": "stream",
     "text": [
      "\n"
     ]
    }
   ],
   "source": [
    "# compute weekly market cap for Swire Properies\n",
    "\n",
    "import pandas as pd\n",
    "import yfinance as yf\n",
    "import matplotlib.pyplot as plt  # Import matplotlib for plotting\n",
    "\n",
    "yf.pdr_override()  # Override the default data source\n",
    "\n",
    "def download_and_convert_to_weekly(stock_symbol, start_date, end_date):\n",
    "    try:\n",
    "        # Download daily stock data\n",
    "        daily_data = yf.download(stock_symbol, start=start_date, end=end_date)\n",
    "\n",
    "        # Convert daily data to weekly data and select 'Adj Close' only\n",
    "        weekly_data = daily_data['Adj Close'].resample('W').mean()\n",
    "\n",
    "        return weekly_data\n",
    "\n",
    "    except Exception as e:\n",
    "        print(f\"An error occurred: {e}\")\n",
    "        return None\n",
    "\n",
    "# Usage\n",
    "stock_symbol = '1972.HK'  # Swire Properties shares \n",
    "start_date = '2013-01-01'\n",
    "end_date = '2026-12-31'\n",
    "\n",
    "weekly_data = download_and_convert_to_weekly(stock_symbol, start_date, end_date)\n",
    "if weekly_data is not None:\n",
    "    # Reset the index so that the date becomes a column\n",
    "    weekly_data_reset = weekly_data.reset_index()\n",
    "\n",
    "    # Rename columns\n",
    "    weekly_data_reset.columns = ['date', 'adj_close']\n",
    "\n",
    "# Load the swire properties basic financial data file\n",
    "swireproperties_fin_data = dfsp\n",
    "\n",
    "# Extract the year from the date columns\n",
    "swireproperties_fin_data['year'] = swireproperties_fin_data['date'].dt.year\n",
    "weekly_data_reset['year'] = weekly_data_reset['date'].dt.year\n",
    "\n",
    "# Merge the two dataframes on the year column\n",
    "weekly_data_reset_merge_sp = pd.merge(weekly_data_reset, swireproperties_fin_data[['year', 'sharecount', 'swirepacshareofsp']], on='year', how='left')\n",
    "\n",
    "# compute market cap for sharecount as a fresh column labelled mkt_cap as product of weekly adj_close and sharecount\n",
    "weekly_data_reset_merge_sp['mkt_cap'] = weekly_data_reset_merge_sp['adj_close'] * weekly_data_reset_merge_sp['sharecount']\n",
    "\n",
    "# compute swirepac share of swireproperties marketcap\n",
    "weekly_data_reset_merge_sp['attrib_mkt_cap_swireproperties_to_swirepac'] = weekly_data_reset_merge_sp['mkt_cap'] * (weekly_data_reset_merge_sp['swirepacshareofsp'] / 100)\n",
    "\n",
    "# Print the weekly data\n",
    "print(weekly_data_reset_merge_sp)\n",
    "\n",
    "\n"
   ]
  },
  {
   "cell_type": "markdown",
   "id": "c1279a9b-987b-4dd9-a4c4-d8b4a9001ac3",
   "metadata": {},
   "source": [
    "### Cathay Pacific - basic financial data"
   ]
  },
  {
   "cell_type": "code",
   "execution_count": 9,
   "id": "d6e8178a-be8d-4445-8c64-63a4bc74ff1e",
   "metadata": {},
   "outputs": [
    {
     "name": "stdout",
     "output_type": "stream",
     "text": [
      "         date   eps   dps   bvps  sharecount  swirepacshareofcx  yoy_eps_chg  \\\n",
      "0  2013-12-31  0.65  0.22  15.99      3934.0                 45          NaN   \n",
      "1  2014-12-31  0.73  0.36  13.15      3934.0                 45         12.3   \n",
      "2  2015-12-31  1.39  0.53  12.18      3934.0                 45         90.4   \n",
      "3  2016-12-31 -0.13  0.05  14.07      3934.0                 45       -109.4   \n",
      "4  2017-12-31 -0.29  0.05  15.53      3934.0                 45        123.1   \n",
      "5  2018-12-31  0.54  0.30  16.25      3934.0                 45       -286.2   \n",
      "6  2019-12-31  0.39  0.18  15.96      4325.0                 45        -27.8   \n",
      "7  2020-12-31 -4.24  0.00   8.32      5156.0                 45      -1187.2   \n",
      "8  2021-12-31 -0.95  0.00   8.07      6437.2                 45        -77.6   \n",
      "9  2022-12-31 -1.11  0.00   6.67      6437.2                 45         16.8   \n",
      "10 2023-12-31  1.25  0.43   7.80      6437.2                 45       -212.6   \n",
      "11 2024-12-31  1.25  0.43   8.62      6437.2                 45          0.0   \n",
      "\n",
      "    yoy_dps_chg  yoy_bvps_chg  \n",
      "0           NaN           NaN  \n",
      "1          63.6         -17.8  \n",
      "2          47.2          -7.4  \n",
      "3         -90.6          15.5  \n",
      "4           0.0          10.4  \n",
      "5         500.0           4.6  \n",
      "6         -40.0          -1.8  \n",
      "7        -100.0         -47.9  \n",
      "8           NaN          -3.0  \n",
      "9           NaN         -17.3  \n",
      "10          inf          16.9  \n",
      "11          0.0          10.5  \n"
     ]
    }
   ],
   "source": [
    "# data extracted from published annual reports\n",
    "# forecast for FY2024 - no responsibility for these numbers\n",
    "\n",
    "import pandas as pd\n",
    "\n",
    "# Specific end-of-year dates\n",
    "dates = [\"2013-12-31\", \"2014-12-31\", \"2015-12-31\", \"2016-12-31\", \n",
    "         \"2017-12-31\", \"2018-12-31\", \"2019-12-31\", \"2020-12-31\", \"2021-12-31\", \n",
    "         \"2022-12-31\", \"2023-12-31\", \"2024-12-31\"]\n",
    "\n",
    "# Corrected EPS, DPS and BVPS values for each date\n",
    "eps = [0.65, 0.73, 1.39, -0.13, -0.29, 0.54, 0.39, -4.24, -0.95, -1.11, 1.25, 1.25]\n",
    "dps = [0.22, 0.36, 0.53, 0.05, 0.05, 0.3, 0.18, 0, 0, 0, 0.43, 0.43 ]\n",
    "bvps = [15.99, 13.15, 12.18, 14.07, 15.53, 16.25, 15.96, 8.32, 8.07, 6.67, 7.8, 8.62]\n",
    "sharecount = [3934, 3934, 3934, 3934, 3934, 3934, 4325, 5156, 6437.2, 6437.2, 6437.2, 6437.2 ]\n",
    "swirepacshareofcx = [45,45,45,45,45,45,45,45,45,45,45,45]\n",
    "\n",
    "\n",
    "# Creating the DataFrame\n",
    "dfcp = pd.DataFrame({\n",
    "    \"date\": dates,\n",
    "    \"eps\": eps,\n",
    "    \"dps\": dps,\n",
    "    \"bvps\": bvps,\n",
    "    \"sharecount\": sharecount,\n",
    "    \"swirepacshareofcx\": swirepacshareofcx\n",
    "    })\n",
    "\n",
    "# Convert the 'date' column to datetime\n",
    "dfcp[\"date\"] = pd.to_datetime(dfcp[\"date\"])\n",
    "\n",
    "# Sort the DataFrame by the 'date' column\n",
    "dfcp = dfcp.sort_values(by=\"date\")\n",
    "\n",
    "# Calculate year-on-year percentage change for EPS and DPS and round to one decimal place\n",
    "dfcp['yoy_eps_chg'] = dfcp['eps'].pct_change().mul(100).round(1)\n",
    "dfcp['yoy_dps_chg'] = dfcp['dps'].pct_change().mul(100).round(1)\n",
    "dfcp['yoy_bvps_chg'] = dfcp['bvps'].pct_change().mul(100).round(1)\n",
    "\n",
    "# Format EPS and DPS as strings with two decimal places - uncheck if required.\n",
    "#df['eps'] = df['eps'].map('{:.2f}'.format)\n",
    "#df['dps'] = df['dps'].map('{:.2f}'.format)\n",
    "\n",
    "# Print the DataFrame\n",
    "print(dfcp)\n",
    "\n"
   ]
  },
  {
   "cell_type": "markdown",
   "id": "b09eb980-fd29-4129-a2e6-ef39ce633b1b",
   "metadata": {},
   "source": [
    "### Swire Pacific's interest in Cathay Pacific's market capitalization"
   ]
  },
  {
   "cell_type": "code",
   "execution_count": 10,
   "id": "ac15e05a-22ec-4541-91a0-31193337be79",
   "metadata": {},
   "outputs": [
    {
     "name": "stderr",
     "output_type": "stream",
     "text": [
      "[*********************100%%**********************]  1 of 1 completed"
     ]
    },
    {
     "name": "stdout",
     "output_type": "stream",
     "text": [
      "          date  adj_close  year  sharecount  swirepacshareofcx       mkt_cap  \\\n",
      "0   2013-01-06  11.061195  2013      3934.0                 45  43514.741349   \n",
      "1   2013-01-13  11.249709  2013      3934.0                 45  44256.354964   \n",
      "2   2013-01-20  11.475927  2013      3934.0                 45  45146.295955   \n",
      "3   2013-01-27  11.851936  2013      3934.0                 45  46625.516062   \n",
      "4   2013-02-03  11.680745  2013      3934.0                 45  45952.049070   \n",
      "..         ...        ...   ...         ...                ...           ...   \n",
      "580 2024-02-18   8.163333  2024      6437.2                 45  52549.008842   \n",
      "581 2024-02-25   8.130000  2024      6437.2                 45  52334.435509   \n",
      "582 2024-03-03   8.444000  2024      6437.2                 45  54355.714688   \n",
      "583 2024-03-10   8.448000  2024      6437.2                 45  54381.464078   \n",
      "584 2024-03-17   8.772000  2024      6437.2                 45  56467.119186   \n",
      "\n",
      "     attrib_mkt_cap_cathaypacific_to_swirepac  \n",
      "0                                19581.633607  \n",
      "1                                19915.359734  \n",
      "2                                20315.833180  \n",
      "3                                20981.482228  \n",
      "4                                20678.422081  \n",
      "..                                        ...  \n",
      "580                              23647.053979  \n",
      "581                              23550.495979  \n",
      "582                              24460.071610  \n",
      "583                              24471.658835  \n",
      "584                              25410.203634  \n",
      "\n",
      "[585 rows x 7 columns]\n"
     ]
    },
    {
     "name": "stderr",
     "output_type": "stream",
     "text": [
      "\n"
     ]
    }
   ],
   "source": [
    "# compute weekly market cap for Cathay Pacific shares\n",
    "\n",
    "import pandas as pd\n",
    "import yfinance as yf\n",
    "import matplotlib.pyplot as plt  # Import matplotlib for plotting\n",
    "\n",
    "yf.pdr_override()  # Override the default data source\n",
    "\n",
    "def download_and_convert_to_weekly(stock_symbol, start_date, end_date):\n",
    "    try:\n",
    "        # Download daily stock data\n",
    "        daily_data = yf.download(stock_symbol, start=start_date, end=end_date)\n",
    "\n",
    "        # Convert daily data to weekly data and select 'Adj Close' only\n",
    "        weekly_data = daily_data['Adj Close'].resample('W').mean()\n",
    "\n",
    "        return weekly_data\n",
    "\n",
    "    except Exception as e:\n",
    "        print(f\"An error occurred: {e}\")\n",
    "        return None\n",
    "\n",
    "# Usage\n",
    "stock_symbol = '0293.HK'  # Cathay Pacific shares \n",
    "start_date = '2013-01-01'\n",
    "end_date = '2026-12-31'\n",
    "\n",
    "weekly_data = download_and_convert_to_weekly(stock_symbol, start_date, end_date)\n",
    "if weekly_data is not None:\n",
    "    # Reset the index so that the date becomes a column\n",
    "    weekly_data_reset = weekly_data.reset_index()\n",
    "\n",
    "    # Rename columns\n",
    "    weekly_data_reset.columns = ['date', 'adj_close']\n",
    "\n",
    "# Load the Cathay Pacific basic financial data file\n",
    "cathaypacific_fin_data = dfcp\n",
    "\n",
    "# Extract the year from the date columns\n",
    "cathaypacific_fin_data['year'] = cathaypacific_fin_data['date'].dt.year\n",
    "weekly_data_reset['year'] = weekly_data_reset['date'].dt.year\n",
    "\n",
    "# Merge the two dataframes on the year column\n",
    "weekly_data_reset_merge_cp = pd.merge(weekly_data_reset, cathaypacific_fin_data[['year', 'sharecount', 'swirepacshareofcx']], on='year', how='left')\n",
    "\n",
    "# compute market cap for sharecount as a fresh column labelled mkt_cap as product of weekly adj_close and sharecount\n",
    "weekly_data_reset_merge_cp['mkt_cap'] = weekly_data_reset_merge_cp['adj_close'] * weekly_data_reset_merge_cp['sharecount']\n",
    "\n",
    "# compute swirepac share of cathay pacific marketcap\n",
    "weekly_data_reset_merge_cp['attrib_mkt_cap_cathaypacific_to_swirepac'] = weekly_data_reset_merge_cp['mkt_cap'] * (weekly_data_reset_merge_cp['swirepacshareofcx'] / 100)\n",
    "\n",
    "# Print the weekly data\n",
    "print(weekly_data_reset_merge_cp)\n",
    "\n"
   ]
  },
  {
   "cell_type": "code",
   "execution_count": 11,
   "id": "40857eb5-2518-4ace-a10a-fdc539b5277a",
   "metadata": {},
   "outputs": [],
   "source": [
    "## 3. Implied unlisted market capitalization "
   ]
  },
  {
   "cell_type": "markdown",
   "id": "a2ff6bfd-f4f6-451a-bf10-d0c887b74a59",
   "metadata": {},
   "source": [
    "### Derive unlisted imputed market capitalization"
   ]
  },
  {
   "cell_type": "code",
   "execution_count": 15,
   "id": "6aa71249-f514-401a-97e8-ad5ac6fab686",
   "metadata": {
    "scrolled": true
   },
   "outputs": [
    {
     "name": "stdout",
     "output_type": "stream",
     "text": [
      "          date  swirepac_mktcap  swireproperties_mktcap  cathaypacific_mktcap  \\\n",
      "0   2013-01-06     76699.517366            86842.411961          19581.633607   \n",
      "1   2013-01-13     76774.253176            87977.037459          19915.359734   \n",
      "2   2013-01-20     77654.966504            90759.055545          20315.833180   \n",
      "3   2013-01-27     78115.651556            90791.790810          20981.482228   \n",
      "4   2013-02-03     79139.982336            92591.900999          20678.422081   \n",
      "..         ...              ...                     ...                   ...   \n",
      "580 2024-02-18     80330.700493            72146.879817          23647.053979   \n",
      "581 2024-02-25     82517.000841            75216.960549          23550.495979   \n",
      "582 2024-03-03     83667.688083            76406.614499          24460.071610   \n",
      "583 2024-03-10     82250.420765            75159.396146          24471.658835   \n",
      "584 2024-03-17     86294.067968            78191.098170          25410.203634   \n",
      "\n",
      "      stub_mktcap  listed_mktcap  \n",
      "0   -29724.528202  106424.045568  \n",
      "1   -31118.144017  107892.397193  \n",
      "2   -33419.922220  111074.888725  \n",
      "3   -33657.621482  111773.273038  \n",
      "4   -34130.340745  113270.323081  \n",
      "..            ...            ...  \n",
      "580 -15463.233303   95793.933796  \n",
      "581 -16250.455687   98767.456528  \n",
      "582 -17198.998026  100866.686109  \n",
      "583 -17380.634217   99631.054981  \n",
      "584 -17307.233836  103601.301804  \n",
      "\n",
      "[585 rows x 6 columns]\n"
     ]
    }
   ],
   "source": [
    "# subtract from swire pacific market cap the share that it owns in Cathay Pacific market cap and share it owns in Swire Properties marketcap\n",
    "\n",
    "import pandas as pd\n",
    "import matplotlib.pyplot as plt\n",
    "import matplotlib.dates as mdates\n",
    "from matplotlib.ticker import MaxNLocator\n",
    "\n",
    "# Load the dataframes\n",
    "swire_weekly_mktcap = swire_weekly_mktcap\n",
    "swireproperties_weekly_data_merge = weekly_data_reset_merge_sp\n",
    "cathaypacific_weekly_data_merge = weekly_data_reset_merge_cp\n",
    "\n",
    "# Rename columns before merging to avoid FutureWarning\n",
    "cathaypacific_weekly_data_merge = cathaypacific_weekly_data_merge.rename(columns={'adj_close': 'adj_close_cathay', 'year': 'year_cathay'})\n",
    "\n",
    "\n",
    "\n",
    "# Ensure the date columns are of the same type\n",
    "swire_weekly_mktcap['date'] = pd.to_datetime(swire_weekly_mktcap['date'])\n",
    "swireproperties_weekly_data_merge['date'] = pd.to_datetime(swireproperties_weekly_data_merge['date'])\n",
    "cathaypacific_weekly_data_merge['date'] = pd.to_datetime(cathaypacific_weekly_data_merge['date'])\n",
    "\n",
    "# Merge the dataframes on the date column\n",
    "swire_weekly_mktcap_merge = pd.merge(swire_weekly_mktcap, swireproperties_weekly_data_merge, on='date', how='outer')\n",
    "swire_weekly_mktcap_merge = pd.merge(swire_weekly_mktcap_merge, cathaypacific_weekly_data_merge, on='date', how='outer')\n",
    "\n",
    "# create a fresh dataframe with the columns date, mkt_cap_x, 'attrib_mkt_cap_swireproperties_to_swirepac', attrib_mkt_cap_cathaypacific_to_swirepac\n",
    "swire_weekly_mktcap_merge_fresh = swire_weekly_mktcap_merge[['date', 'mkt_cap_x', 'attrib_mkt_cap_swireproperties_to_swirepac', 'attrib_mkt_cap_cathaypacific_to_swirepac']]\n",
    "\n",
    "# rename columns to date, swirepac_mktcap, swireproperties_mktcap, cathaypacific_mktcap\n",
    "swire_weekly_mktcap_merge_fresh.columns = ['date', 'swirepac_mktcap', 'swireproperties_mktcap', 'cathaypacific_mktcap']\n",
    "\n",
    "# Use .loc to avoid SettingWithCopyWarning\n",
    "swire_weekly_mktcap_merge_fresh = swire_weekly_mktcap_merge_fresh.copy()\n",
    "\n",
    "# add a column called stub_mktcap\n",
    "swire_weekly_mktcap_merge_fresh.loc[:, 'stub_mktcap'] = swire_weekly_mktcap_merge_fresh['swirepac_mktcap'] - swire_weekly_mktcap_merge_fresh['swireproperties_mktcap'] - swire_weekly_mktcap_merge_fresh['cathaypacific_mktcap']\n",
    "\n",
    "# add a column called listed_mktcap that is the sum of swireproperties_mktcap and cathaypacific_mktcap\n",
    "swire_weekly_mktcap_merge_fresh.loc[:, 'listed_mktcap'] = swire_weekly_mktcap_merge_fresh['swireproperties_mktcap'] + swire_weekly_mktcap_merge_fresh['cathaypacific_mktcap']\n",
    "\n",
    "print(swire_weekly_mktcap_merge_fresh)\n",
    "\n",
    "\n"
   ]
  },
  {
   "cell_type": "markdown",
   "id": "f934b97d-e365-4c52-b999-7283191cd931",
   "metadata": {},
   "source": [
    "### PLot line chart that shows Swire Pacific market cap, listed market cap, and, unlisted market cap"
   ]
  },
  {
   "cell_type": "code",
   "execution_count": 14,
   "id": "71726b5e-cdec-4e27-9278-463a42bd2546",
   "metadata": {},
   "outputs": [
    {
     "data": {
      "image/png": "[encoded data removed]",
      "text/plain": [
       "<Figure size 1000x500 with 1 Axes>"
      ]
     },
     "metadata": {},
     "output_type": "display_data"
    }
   ],
   "source": [
    "# plot the data\n",
    "plt.figure(figsize=(10, 5))  # Set the figure size\n",
    "plt.plot(swire_weekly_mktcap_merge_fresh['date'], swire_weekly_mktcap_merge_fresh['listed_mktcap'], label='Listed Market Cap', linewidth=0.5)\n",
    "plt.plot(swire_weekly_mktcap_merge_fresh['date'], swire_weekly_mktcap_merge_fresh['stub_mktcap'], label='Stub Market Cap', linewidth=0.5)\n",
    "plt.plot(swire_weekly_mktcap_merge_fresh['date'], swire_weekly_mktcap_merge_fresh['swirepac_mktcap'], label='Swire Pacific Market Cap', linewidth=0.5)\n",
    "\n",
    "plt.title('Market Cap')  # Set the title\n",
    "plt.xlabel('Date')  # Set the x-axis label\n",
    "plt.ylabel('Market Cap HK$Mils')  # Set the y-axis label\n",
    "\n",
    "# Adding a grid\n",
    "plt.grid(True, linestyle='--', linewidth=0.5, alpha=0.7)\n",
    "\n",
    "# Improving the date ticks\n",
    "plt.gca().xaxis.set_major_locator(mdates.YearLocator())\n",
    "plt.gca().xaxis.set_major_formatter(mdates.DateFormatter('%Y'))\n",
    "\n",
    "# Add a legend\n",
    "plt.legend()\n",
    "\n",
    "plt.show()  # Show the plot"
   ]
  },
  {
   "cell_type": "code",
   "execution_count": null,
   "id": "a7386e4f-436f-4550-840f-62c3647c46df",
   "metadata": {},
   "outputs": [],
   "source": []
  }
 ],
 "metadata": {
  "kernelspec": {
   "display_name": "Python 3 (ipykernel)",
   "language": "python",
   "name": "python3"
  },
  "language_info": {
   "codemirror_mode": {
    "name": "ipython",
    "version": 3
   },
   "file_extension": ".py",
   "mimetype": "text/x-python",
   "name": "python",
   "nbconvert_exporter": "python",
   "pygments_lexer": "ipython3",
   "version": "3.12.1"
  }
 },
 "nbformat": 4,
 "nbformat_minor": 5
}
