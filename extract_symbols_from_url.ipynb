{
 "cells": [
  {
   "cell_type": "markdown",
   "id": "50de9d55-45ed-4e19-b4c4-db6251d23805",
   "metadata": {},
   "source": [
    "# Tool: extract links from a webpage"
   ]
  },
  {
   "cell_type": "markdown",
   "id": "09e54e8f-1e50-4627-bdac-fd1ed65fbc80",
   "metadata": {},
   "source": [
    "In this script we sought to: (1) extract links from a webpage; (2) extract the chunk of each link that was of our interest (in this case the stock symbol); (3) add a suffix to each symbol to make the symbol addressable by yahoo finance; (4) save the list of symbols to a csv file that could then be used for multiple stock price downloads. Let's go.  "
   ]
  },
  {
   "cell_type": "code",
   "execution_count": 2,
   "id": "2963f017-0739-4861-98fe-9ae606f7e5a5",
   "metadata": {},
   "outputs": [
    {
     "name": "stdout",
     "output_type": "stream",
     "text": [
      "       Symbol\n",
      "0     BDMS.BK\n",
      "1       BH.BK\n",
      "2      BCH.BK\n",
      "3      THG.BK\n",
      "4      RAM.BK\n",
      "5      CHG.BK\n",
      "6     STGT.BK\n",
      "7    VIBHA.BK\n",
      "8      SKR.BK\n",
      "9   MASTER.BK\n",
      "10   PRINC.BK\n",
      "11     PR9.BK\n",
      "12  M-CHAI.BK\n",
      "13  KLINIQ.BK\n",
      "14     CMR.BK\n",
      "15     RJH.BK\n",
      "16     TNH.BK\n",
      "17    SAFE.BK\n",
      "18     NTV.BK\n",
      "19     TOG.BK\n",
      "20     EKH.BK\n",
      "21     WPH.BK\n",
      "22     TRP.BK\n",
      "23     VIH.BK\n"
     ]
    }
   ],
   "source": [
    "import requests\n",
    "from lxml import html\n",
    "import pandas as pd\n",
    "\n",
    "# URL of the webpage that contains the symbols\n",
    "url = 'https://simplywall.st/stocks/th/healthcare/market-cap-large'\n",
    "\n",
    "# Send a GET request to the webpage\n",
    "response = requests.get(url)\n",
    "\n",
    "# Parse the HTML content of the page\n",
    "tree = html.fromstring(response.content)\n",
    "\n",
    "# XPath to extract the links containing stock symbols\n",
    "links_xpath = '//*[@id=\"root\"]/div/div[2]/section/div[1]/div[1]/section/div/table/tbody/tr/td[2]/a/@href'\n",
    "\n",
    "# Extract the links\n",
    "links = tree.xpath(links_xpath)\n",
    "\n",
    "# Function to extract symbols from a link\n",
    "def extract_ticker(link):\n",
    "    # Extract ticker based on the pattern in the link\n",
    "    ticker = link.split('/set-')[-1].split('/')[0]\n",
    "    # Add the suffix '.BK' and convert to uppercase\n",
    "    ticker = (ticker + '.BK').upper()\n",
    "    return ticker\n",
    "\n",
    "# Extract symbols and add the suffix\n",
    "tickers = [extract_ticker(link) for link in links]\n",
    "\n",
    "# Save the list of tickers to a CSV file\n",
    "df = pd.DataFrame(tickers, columns=['Symbol'])\n",
    "\n",
    "# print tickers\n",
    "print(df)"
   ]
  },
  {
   "cell_type": "code",
   "execution_count": 3,
   "id": "19c2465b-dde9-444f-95d1-8d2d956ff5a2",
   "metadata": {},
   "outputs": [],
   "source": [
    "# Save the list of tickers to a CSV file - uncheck to use\n",
    "#csv_file_path = 'tickers.csv'\n",
    "#df.to_csv(csv_file_path, index=False)\n",
    "\n",
    "#print(f'Tickers have been saved to {csv_file_path}')\n"
   ]
  },
  {
   "cell_type": "code",
   "execution_count": null,
   "id": "1e0b52c6-3b4a-4904-8b5a-2510f4709729",
   "metadata": {},
   "outputs": [],
   "source": []
  }
 ],
 "metadata": {
  "kernelspec": {
   "display_name": "Python 3 (ipykernel)",
   "language": "python",
   "name": "python3"
  },
  "language_info": {
   "codemirror_mode": {
    "name": "ipython",
    "version": 3
   },
   "file_extension": ".py",
   "mimetype": "text/x-python",
   "name": "python",
   "nbconvert_exporter": "python",
   "pygments_lexer": "ipython3",
   "version": "3.12.1"
  }
 },
 "nbformat": 4,
 "nbformat_minor": 5
}
