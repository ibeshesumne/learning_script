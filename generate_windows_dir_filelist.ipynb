{
 "cells": [
  {
   "cell_type": "markdown",
   "id": "64d9a24e-23b9-4962-abe1-0769638f3a9c",
   "metadata": {},
   "source": [
    "# Exploratory: script to generate a list of files in a windows directory"
   ]
  },
  {
   "cell_type": "markdown",
   "id": "101c517b-a159-4f43-842a-27699d87bd2d",
   "metadata": {},
   "source": [
    "## Setup packages"
   ]
  },
  {
   "cell_type": "code",
   "execution_count": 1,
   "id": "5408dd72-5a66-428f-93a9-4f59c2162e11",
   "metadata": {},
   "outputs": [],
   "source": [
    "import os"
   ]
  },
  {
   "cell_type": "markdown",
   "id": "7aa97a95-6d98-4f9c-8922-a29d8b7ca0f9",
   "metadata": {},
   "source": [
    "## identify directory seek a file list from"
   ]
  },
  {
   "cell_type": "code",
   "execution_count": 2,
   "id": "ca75cc1b-e19e-4b4b-afc7-f4ee817a600a",
   "metadata": {},
   "outputs": [],
   "source": [
    "# Specify the directory you want to list files from\n",
    "directory_path = r'Replace with path'"
   ]
  },
  {
   "cell_type": "markdown",
   "id": "f80ae6db-3dc4-4f14-874a-a45dc48c5145",
   "metadata": {},
   "source": [
    "## List files"
   ]
  },
  {
   "cell_type": "code",
   "execution_count": 5,
   "id": "f76ce69b-c01a-4a87-8d02-214b199d390f",
   "metadata": {},
   "outputs": [
    {
     "ename": "FileNotFoundError",
     "evalue": "[WinError 3] The system cannot find the path specified: 'Replace with path'",
     "output_type": "error",
     "traceback": [
      "\u001b[1;31m---------------------------------------------------------------------------\u001b[0m",
      "\u001b[1;31mFileNotFoundError\u001b[0m                         Traceback (most recent call last)",
      "Cell \u001b[1;32mIn[5], line 2\u001b[0m\n\u001b[0;32m      1\u001b[0m \u001b[38;5;66;03m# List all files in the directory\u001b[39;00m\n\u001b[1;32m----> 2\u001b[0m file_names \u001b[38;5;241m=\u001b[39m [f \u001b[38;5;28;01mfor\u001b[39;00m f \u001b[38;5;129;01min\u001b[39;00m \u001b[43mos\u001b[49m\u001b[38;5;241;43m.\u001b[39;49m\u001b[43mlistdir\u001b[49m\u001b[43m(\u001b[49m\u001b[43mdirectory_path\u001b[49m\u001b[43m)\u001b[49m \u001b[38;5;28;01mif\u001b[39;00m os\u001b[38;5;241m.\u001b[39mpath\u001b[38;5;241m.\u001b[39misfile(os\u001b[38;5;241m.\u001b[39mpath\u001b[38;5;241m.\u001b[39mjoin(directory_path, f))]\n\u001b[0;32m      3\u001b[0m \u001b[38;5;28mprint\u001b[39m(file_names)\n",
      "\u001b[1;31mFileNotFoundError\u001b[0m: [WinError 3] The system cannot find the path specified: 'Replace with path'"
     ]
    }
   ],
   "source": [
    "# List all files in the directory\n",
    "file_names = [f for f in os.listdir(directory_path) if os.path.isfile(os.path.join(directory_path, f))]\n",
    "print(file_names)"
   ]
  }
 ],
 "metadata": {
  "kernelspec": {
   "display_name": "Python 3 (ipykernel)",
   "language": "python",
   "name": "python3"
  },
  "language_info": {
   "codemirror_mode": {
    "name": "ipython",
    "version": 3
   },
   "file_extension": ".py",
   "mimetype": "text/x-python",
   "name": "python",
   "nbconvert_exporter": "python",
   "pygments_lexer": "ipython3",
   "version": "3.12.1"
  }
 },
 "nbformat": 4,
 "nbformat_minor": 5
}
