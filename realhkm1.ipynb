{
 "cells": [
  {
   "cell_type": "markdown",
   "id": "b74d4b04-fd7d-4194-95e1-a39c266f5df5",
   "metadata": {},
   "source": [
    "# Real M1 annual growth with Hong Kong recessions "
   ]
  },
  {
   "cell_type": "markdown",
   "id": "b270d6a8-3417-4848-8de7-14f4baf93bd7",
   "metadata": {},
   "source": [
    "This script downloads Hong Kong government produced statistics for money supply, composite consumer price index (cpi), nominal gross domestic product (gdp) statistics and the gdp deflator. It puts these data onto a common quarterly basis and computes inflation adjusted \"real\" annual growth for each variable. \n",
    "\n",
    "The source for monthly money supply is the Hong Kong Monetary Authority. The source for the monthly cpi, quarterly gdp and gdp deflator is the Hong Kong census and statistics department. For each series the data is downloaded from each department's application program interface (API). \n",
    "\n",
    "Because the money supply is month end data we have taken the end month that corresponds to the quarter to convert the monthly series to a quarterly series. And have treated the corresponding cpi index in the same way. The result of that is to match up the money supply and cpi time series to the quarterly gdp and gdp deflator time series. Once the data are aligned by date the nominal time series are deflated by the composite cpi ratio for money supply and by the gdp deflator for gdp. Once these \"real time series\" are obtained the annual change for each quarter is generated. \n",
    "\n",
    "A chart is plotted to show real M1 annual growth with Hong Kong recessions to examine whether a leading relationship exists in these variables as has been found in other markets and for instance in the EU (see 'The predictive power of real M1 for real economic activity in the euro area', Prepared by [Alberto Musso, European Central bank Economic Bulletin, Issue 3, 2019, page 35](https://www.ecb.europa.eu/pub/pdf/ecbu/eb201903.en.pdf), accessed: 2024-03-04)\n",
    "\n",
    "Some brief statistics tests are performed to examine the nature of the relationship in the Hong Kong context. Let us get started."
   ]
  },
  {
   "cell_type": "code",
   "execution_count": 2,
   "id": "18ed8f7f-b08c-4f7d-81e1-329bdedc29df",
   "metadata": {},
   "outputs": [],
   "source": [
    "import requests\n",
    "import json\n",
    "import urllib.request\n",
    "import pandas as pd\n",
    "import os\n",
    "import time\n",
    "import numpy as np\n",
    "import matplotlib.pyplot as plt\n",
    "import matplotlib.dates as mdates\n",
    "import matplotlib.patches as mpatches # add shaded part as legend\n",
    "!pip install statsmodels\n",
    "from statsmodels.tsa.stattools import grangercausalitytests\n",
    "from statsmodels.tsa.stattools import adfuller\n",
    "from statsmodels.tsa.stattools import coint"
   ]
  },
  {
   "cell_type": "markdown",
   "id": "a7ed9667-4f93-487c-b1e0-833a80cb1c02",
   "metadata": {},
   "source": [
    "We first download the monthly [Money supply – Unadjusted for foreign currency swap deposits](https://apidocs.hkma.gov.hk/documentation/market-data-and-statistics/monthly-statistical-bulletin/money/supply-unadjusted-fc/) from the Hong Kong Monetary Authority website. And add the pagesize of 1000 to gather all the historic data in the timeseries and set the date column to be month end dates. "
   ]
  },
  {
   "cell_type": "code",
   "execution_count": 5,
   "id": "2ca00b27-e58b-442a-9bef-00dbf5a66323",
   "metadata": {},
   "outputs": [
    {
     "name": "stdout",
     "output_type": "stream",
     "text": [
      "<bound method DataFrame.info of           date     m1_total      m2_total\n",
      "320 1997-04-30   226780.282  2.722283e+06\n",
      "319 1997-05-31   226089.335  2.760299e+06\n",
      "318 1997-06-30   226855.099  2.784347e+06\n",
      "317 1997-07-31   228037.575  2.806834e+06\n",
      "316 1997-08-31   221188.897  2.791558e+06\n",
      "..         ...          ...           ...\n",
      "4   2023-08-31  2605772.523  1.679123e+07\n",
      "3   2023-09-30  2502110.929  1.678574e+07\n",
      "2   2023-10-31  2559041.178  1.679603e+07\n",
      "1   2023-11-30  2619737.341  1.705916e+07\n",
      "0   2023-12-31  2598202.612  1.719527e+07\n",
      "\n",
      "[321 rows x 3 columns]>\n"
     ]
    }
   ],
   "source": [
    "url = 'https://api.hkma.gov.hk/public/market-data-and-statistics/monthly-statistical-bulletin/money/supply-unadjusted-fc?pagesize=1000'\n",
    "\n",
    "response = requests.get(url)\n",
    "data = response.json()\n",
    "\n",
    "if 'result' in data and 'records' in data['result']:\n",
    "    records = data['result']['records']\n",
    "else:\n",
    "    print(\"The key 'result' or 'records' does not exist in the data.\")\n",
    "    records = []\n",
    "\n",
    "# put in a dataframe \n",
    "df_moneysupply = pd.DataFrame(records)\n",
    "\n",
    "# keep columns end_of_month, m1_total, m2_total\n",
    "df_moneysupply = df_moneysupply[['end_of_month', 'm1_total', 'm2_total']]\n",
    "\n",
    "# rename end_of_month to date\n",
    "df_moneysupply = df_moneysupply.rename(columns={'end_of_month': 'date'})\n",
    "\n",
    "# convert date to datetime from YYYY-MM format to YYYY-MM-DD using end of month date\n",
    "df_moneysupply['date'] = pd.to_datetime(df_moneysupply['date'], format='%Y-%m') + pd.offsets.MonthEnd(1)\n",
    "\n",
    "# sort the dataframe based on date in ascending order\n",
    "df_moneysupply = df_moneysupply.sort_values(by='date')\n",
    "\n",
    "# describe m2 and m1 and quaid money\n",
    "print(df_moneysupply.info)\n"
   ]
  },
  {
   "cell_type": "markdown",
   "id": "5f03432c-d0b1-4325-a9e9-a24cfb140b78",
   "metadata": {},
   "source": [
    "The monthly composite consumer price is obtained from [Table 510-60001 : Consumer Price Indices (October 2019 – September 2020 = 100)](https://www.censtatd.gov.hk/en/web_table.html?id=510-60001#) from the census and statistics website."
   ]
  },
  {
   "cell_type": "code",
   "execution_count": 7,
   "id": "fdbf13e6-219a-4d43-9073-fb385fa42638",
   "metadata": {},
   "outputs": [
    {
     "name": "stdout",
     "output_type": "stream",
     "text": [
      "          date CPI_composite_index_yr2019oct_sept2020_100\n",
      "3   1974-07-31                                           \n",
      "4   1974-08-31                                           \n",
      "5   1974-09-30                                           \n",
      "0   1974-10-31                                           \n",
      "1   1974-11-30                                           \n",
      "..         ...                                        ...\n",
      "642 2023-09-30                                      105.6\n",
      "632 2023-10-31                                      106.7\n",
      "633 2023-11-30                                      106.6\n",
      "634 2023-12-31                                      106.7\n",
      "643 2024-01-31                                      106.6\n",
      "\n",
      "[595 rows x 2 columns]\n"
     ]
    }
   ],
   "source": [
    "url = \"https://www.censtatd.gov.hk/api/post.php\"\n",
    "parameters ={\n",
    "  \"cv\": {},\n",
    "  \"sv\": {\n",
    "    \"CC_CM_1920\": [\n",
    "      \"Raw_1dp_idx_n\"\n",
    "    ]\n",
    "  },\n",
    "  \"period\": {\n",
    "    \"start\": \"197407\"\n",
    "  },\n",
    "  \"id\": \"510-60001\",\n",
    "  \"lang\": \"en\"\n",
    "}\n",
    "data = {'query': json.dumps(parameters)}\n",
    "\n",
    "try:\n",
    "    r = requests.post(url, data=data, timeout=20)\n",
    "    r.raise_for_status()  # Raise an exception if the request was unsuccessful\n",
    "except (requests.exceptions.HTTPError, requests.exceptions.RequestException) as err:\n",
    "    print(f\"An error occurred: {err}\")\n",
    "else:\n",
    "    response_data = r.json()\n",
    "    if response_data['header']['status']['name'] == 'Success':\n",
    "        if response_data['dataSet']:\n",
    "            df_cpi = pd.DataFrame(response_data['dataSet'])\n",
    "            #print(df_cpi)\n",
    "        else:\n",
    "            print(\"No data available\")\n",
    "    else:\n",
    "        print(f\"Request failed: {response_data['header']['status']['description']}\")\n",
    "\n",
    "# from the dataframe remove all rows that do not contain \"M\" in the freq column\n",
    "df_cpi = df_cpi[df_cpi['freq'].str.contains('M')]\n",
    "\n",
    "# keep wanted columns period and figure\n",
    "df_cpi = df_cpi[['period', 'figure']]\n",
    "\n",
    "# rename the period column \"date\" and make a datetime format from YYYYMM to YYYY-MM-DD with month end date\n",
    "df_cpi = df_cpi.rename(columns={'period': 'date'})\n",
    "df_cpi['date'] = pd.to_datetime(df_cpi['date'], format='%Y%m') + pd.offsets.MonthEnd(1)\n",
    "                                \n",
    "# sort the dataframe based on date in ascending order\n",
    "df_cpi = df_cpi.sort_values(by='date')\n",
    "\n",
    "# rename figure column to GDP_at_current_prices\n",
    "df_cpi = df_cpi.rename(columns={'figure': 'CPI_composite_index_yr2019oct_sept2020_100'})\n",
    "\n",
    "# print the dataframe\n",
    "print(df_cpi)"
   ]
  },
  {
   "cell_type": "markdown",
   "id": "600ad5cc-b1ae-41b1-941f-2c0dd2c2f544",
   "metadata": {},
   "source": [
    "The money supply and consumer price index dataframes were then merged into one. And the monthly time series were converted to quarters. "
   ]
  },
  {
   "cell_type": "code",
   "execution_count": 9,
   "id": "36eed83a-3ef2-454e-ad19-0fd62d713bb3",
   "metadata": {},
   "outputs": [
    {
     "name": "stdout",
     "output_type": "stream",
     "text": [
      "               m1_total      m2_total  \\\n",
      "date                                    \n",
      "1997-06-30   226855.099  2.784347e+06   \n",
      "1997-09-30   223655.827  2.846131e+06   \n",
      "1997-12-31   208092.943  2.788808e+06   \n",
      "1998-03-31   201920.784  2.872865e+06   \n",
      "1998-06-30   188211.687  2.847062e+06   \n",
      "...                 ...           ...   \n",
      "2022-12-31  2769343.469  1.653608e+07   \n",
      "2023-03-31  2712677.622  1.661968e+07   \n",
      "2023-06-30  2582311.860  1.655257e+07   \n",
      "2023-09-30  2502110.929  1.678574e+07   \n",
      "2023-12-31  2598202.612  1.719527e+07   \n",
      "\n",
      "            CPI_composite_index_yr2019oct_sept2020_100  \n",
      "date                                                    \n",
      "1997-06-30                                        74.4  \n",
      "1997-09-30                                        75.4  \n",
      "1997-12-31                                        76.2  \n",
      "1998-03-31                                        76.7  \n",
      "1998-06-30                                        77.4  \n",
      "...                                                ...  \n",
      "2022-12-31                                       104.2  \n",
      "2023-03-31                                       105.0  \n",
      "2023-06-30                                       105.2  \n",
      "2023-09-30                                       105.6  \n",
      "2023-12-31                                       106.7  \n",
      "\n",
      "[107 rows x 3 columns]\n"
     ]
    }
   ],
   "source": [
    "# merge money supply data and cpi deflator\n",
    "df_merged_money = pd.merge(df_moneysupply, df_cpi, on='date')\n",
    "\n",
    "# make date column datetime format YYYY-MM-DD\n",
    "df_merged_money['date'] = pd.to_datetime(df_merged_money['date'])\n",
    "\n",
    "# sort dataframe on date column in ascending order\n",
    "df_merged_money = df_merged_money.sort_values(by='date', ascending=True)\n",
    "\n",
    "# resample to quarterly\n",
    "\n",
    "# set date as the index\n",
    "df_merged_money.set_index('date', inplace=True)\n",
    "\n",
    "# resample to quarterly data by taking the last value of each quarter\n",
    "quarterly_end_of_period_money_cpi_index = df_merged_money.resample('Q').last()\n",
    "\n",
    "#print\n",
    "print(quarterly_end_of_period_money_cpi_index)"
   ]
  },
  {
   "cell_type": "markdown",
   "id": "c505c162-6854-4a47-a9c0-ae4b17a816e0",
   "metadata": {},
   "source": [
    "Quarterly GDP data was downloaded from the census and statistics department from [Table 310-31002 : Gross Domestic Product (GDP) by major expenditure component at current market prices](https://www.censtatd.gov.hk/en/web_table.html?id=310-31002). "
   ]
  },
  {
   "cell_type": "code",
   "execution_count": 12,
   "id": "e3f7a217-c903-4d82-972f-eb13784caab5",
   "metadata": {},
   "outputs": [
    {
     "name": "stdout",
     "output_type": "stream",
     "text": [
      "           date  GDP_at_current_prices_HKDMillions\n",
      "13   1973-03-31                               9697\n",
      "26   1973-06-30                               9586\n",
      "39   1973-09-30                              10979\n",
      "52   1973-12-31                              11064\n",
      "78   1974-03-31                              11664\n",
      "...         ...                                ...\n",
      "3237 2022-12-31                             732062\n",
      "3263 2023-03-31                             720760\n",
      "3276 2023-06-30                             707502\n",
      "3289 2023-09-30                             768426\n",
      "3302 2023-12-31                             794640\n",
      "\n",
      "[204 rows x 2 columns]\n"
     ]
    }
   ],
   "source": [
    "url = \"https://www.censtatd.gov.hk/api/post.php\"\n",
    "parameters ={\n",
    "  \"cv\": {\n",
    "    \"GDP_COMPONENT\": [\n",
    "      \"FD\",\n",
    "      \"DD\",\n",
    "      \"PCE\",\n",
    "      \"GCE\",\n",
    "      \"GDFCF\",\n",
    "      \"CIV\",\n",
    "      \"XGS\",\n",
    "      \"MGS\",\n",
    "      \"XG\",\n",
    "      \"XS\",\n",
    "      \"MG\",\n",
    "      \"MS\"\n",
    "    ]\n",
    "  },\n",
    "  \"sv\": {\n",
    "    \"CUR\": [\n",
    "      \"Raw_M_hkd_d\"\n",
    "    ]\n",
    "  },\n",
    "  \"period\": {\n",
    "    \"start\": \"197301\"\n",
    "  },\n",
    "  \"id\": \"310-31002\",\n",
    "  \"lang\": \"en\"\n",
    "}\n",
    "data = {'query': json.dumps(parameters)}\n",
    "\n",
    "try:\n",
    "    r = requests.post(url, data=data, timeout=20)\n",
    "    r.raise_for_status()  # Raise an exception if the request was unsuccessful\n",
    "except (requests.exceptions.HTTPError, requests.exceptions.RequestException) as err:\n",
    "    print(f\"An error occurred: {err}\")\n",
    "else:\n",
    "    response_data = r.json()\n",
    "    if response_data['header']['status']['name'] == 'Success':\n",
    "        if response_data['dataSet']:\n",
    "            df_gdp = pd.DataFrame(response_data['dataSet'])\n",
    "            #print(df_gdp)\n",
    "        else:\n",
    "            print(\"No data available\")\n",
    "    else:\n",
    "        print(f\"Request failed: {response_data['header']['status']['description']}\")\n",
    "\n",
    "# from the dataframe remove all rows that do not contain \"Total\" in the GDP_COMPONTEDesc column\n",
    "df_gdp = df_gdp[df_gdp['GDP_COMPONENTDesc'].str.contains('Total')]\n",
    "\n",
    "# from the dataframe remove all rows that do not contain \"Q\" in the freq column\n",
    "df_gdp = df_gdp[df_gdp['freq'].str.contains('Q')]\n",
    "\n",
    "# keep wanted columns period and figure\n",
    "df_gdp = df_gdp[['period', 'figure']]\n",
    "\n",
    "# rename the period column \"date\" and make a datetime format from YYYYMM to YYYY-MM-DD\n",
    "df_gdp = df_gdp.rename(columns={'period': 'date'})\n",
    "df_gdp['date'] = pd.to_datetime(df_gdp['date'], format='%Y%m')+ pd.offsets.MonthEnd(1)\n",
    "\n",
    "# rename figure column to GDP_at_current_prices\n",
    "df_gdp = df_gdp.rename(columns={'figure': 'GDP_at_current_prices_HKDMillions'})\n",
    "\n",
    "print(df_gdp)"
   ]
  },
  {
   "cell_type": "markdown",
   "id": "c18eab42-9a5c-42a4-814e-1b2289a89920",
   "metadata": {},
   "source": [
    "Quarterly gdp deflator data was from [Table 310-31001 : Gross Domestic Product (GDP), implicit price deflator of GDP and per capita GDP](https://www.censtatd.gov.hk/en/web_table.html?id=31)."
   ]
  },
  {
   "cell_type": "code",
   "execution_count": 13,
   "id": "f537efa2-664d-49ba-89d4-e065e49e1001",
   "metadata": {},
   "outputs": [
    {
     "name": "stdout",
     "output_type": "stream",
     "text": [
      "          date  GDP_deflator_index_yr2021_100\n",
      "1   1973-03-31                           12.7\n",
      "2   1973-06-30                           12.7\n",
      "3   1973-09-30                           13.6\n",
      "4   1973-12-31                           14.2\n",
      "6   1974-03-31                           14.4\n",
      "..         ...                            ...\n",
      "249 2022-12-31                          101.8\n",
      "251 2023-03-31                          103.2\n",
      "252 2023-06-30                          103.8\n",
      "253 2023-09-30                          106.5\n",
      "254 2023-12-31                          106.0\n",
      "\n",
      "[204 rows x 2 columns]\n"
     ]
    }
   ],
   "source": [
    "url = \"https://www.censtatd.gov.hk/api/post.php\"\n",
    "parameters ={\n",
    "  \"cv\": {},\n",
    "  \"sv\": {\n",
    "    \"DEF\": [\n",
    "      \"Raw_1dp_idx_n\"\n",
    "    ]\n",
    "  },\n",
    "  \"period\": {\n",
    "    \"start\": \"197301\"\n",
    "  },\n",
    "  \"id\": \"310-31001\",\n",
    "  \"lang\": \"en\"\n",
    "}\n",
    "data = {'query': json.dumps(parameters)}\n",
    "\n",
    "try:\n",
    "    r = requests.post(url, data=data, timeout=20)\n",
    "    r.raise_for_status()  # Raise an exception if the request was unsuccessful\n",
    "except (requests.exceptions.HTTPError, requests.exceptions.RequestException) as err:\n",
    "    print(f\"An error occurred: {err}\")\n",
    "else:\n",
    "    response_data = r.json()\n",
    "    if response_data['header']['status']['name'] == 'Success':\n",
    "        if response_data['dataSet']:\n",
    "            df_deflator = pd.DataFrame(response_data['dataSet'])\n",
    "            #print(df_deflator)\n",
    "        else:\n",
    "            print(\"No data available\")\n",
    "    else:\n",
    "        print(f\"Request failed: {response_data['header']['status']['description']}\")\n",
    "\n",
    "# from the dataframe remove all rows that do not contain \"Q\" in the freq column\n",
    "df_deflator = df_deflator[df_deflator['freq'].str.contains('Q')]\n",
    "\n",
    "# keep wanted columns period and figure\n",
    "df_deflator = df_deflator[['period', 'figure']]\n",
    "\n",
    "# rename the period column \"date\" and make a datetime format from YYYYMM to YYYY-MM-DD\n",
    "df_deflator = df_deflator.rename(columns={'period': 'date'})\n",
    "df_deflator['date'] = pd.to_datetime(df_deflator['date'], format='%Y%m')+ pd.offsets.MonthEnd(1)\n",
    "\n",
    "# rename figure column to GDP_at_current_prices\n",
    "df_deflator = df_deflator.rename(columns={'figure': 'GDP_deflator_index_yr2021_100'})\n",
    "\n",
    "# print \n",
    "print(df_deflator)\n"
   ]
  },
  {
   "cell_type": "markdown",
   "id": "0130ad4a-f972-41fd-9049-82f98550a1e6",
   "metadata": {},
   "source": [
    "We then merged the quarterly GDP and GDP deflator time series. "
   ]
  },
  {
   "cell_type": "code",
   "execution_count": 15,
   "id": "46e4b8a9-20f6-40aa-ac82-f2b160b34644",
   "metadata": {},
   "outputs": [
    {
     "name": "stdout",
     "output_type": "stream",
     "text": [
      "            GDP_at_current_prices_HKDMillions  GDP_deflator_index_yr2021_100\n",
      "date                                                                        \n",
      "1973-03-31                               9697                           12.7\n",
      "1973-06-30                               9586                           12.7\n",
      "1973-09-30                              10979                           13.6\n",
      "1973-12-31                              11064                           14.2\n",
      "1974-03-31                              11664                           14.4\n",
      "...                                       ...                            ...\n",
      "2022-12-31                             732062                          101.8\n",
      "2023-03-31                             720760                          103.2\n",
      "2023-06-30                             707502                          103.8\n",
      "2023-09-30                             768426                          106.5\n",
      "2023-12-31                             794640                          106.0\n",
      "\n",
      "[204 rows x 2 columns]\n"
     ]
    }
   ],
   "source": [
    "# merge money supply data and cpi deflator\n",
    "df_merged_gdp_def = pd.merge(df_gdp, df_deflator, on='date')\n",
    "\n",
    "# make date column datetime format YYYY-MM-DD\n",
    "df_merged_gdp_def['date'] = pd.to_datetime(df_merged_gdp_def['date'])\n",
    "\n",
    "# sort dataframe on date column in ascending order\n",
    "df_merged_gdp_def = df_merged_gdp_def.sort_values(by='date', ascending=True)\n",
    "\n",
    "# set date as the index\n",
    "df_merged_gdp_def.set_index('date', inplace=True)\n",
    "\n",
    "#print\n",
    "print(df_merged_gdp_def)"
   ]
  },
  {
   "cell_type": "markdown",
   "id": "2fec65ed-e526-4a7e-8424-d5d9d554cb43",
   "metadata": {},
   "source": [
    "And then merged the money supply and cpi together to the gdp and gdp deflator dataframes."
   ]
  },
  {
   "cell_type": "code",
   "execution_count": 17,
   "id": "4a4875e7-398c-46ad-b22d-f69c02229883",
   "metadata": {},
   "outputs": [],
   "source": [
    "# 7. merge quarterly_end_of_period_money_cpi_index and df_merged_gdp_def on index\n",
    "\n",
    "df_merged = pd.merge(quarterly_end_of_period_money_cpi_index, df_merged_gdp_def, on='date')\n"
   ]
  },
  {
   "cell_type": "markdown",
   "id": "8a204548-1594-409f-bd9a-7288c6823296",
   "metadata": {},
   "source": [
    "Once the data was in one dataframe we computed the real inflation adjusted money supply for M1 and M2 using the cpi index and real gdp using the gdp deflator index. And the year on year annual change in money supply M1 and M2 and gdp.  "
   ]
  },
  {
   "cell_type": "code",
   "execution_count": 27,
   "id": "e4ba63fd-79fa-4150-8f60-f25e0095754a",
   "metadata": {},
   "outputs": [
    {
     "name": "stdout",
     "output_type": "stream",
     "text": [
      "            real_m1_yoy  real_GDP_yoy\n",
      "date                                 \n",
      "1997-06-30          NaN           NaN\n",
      "1997-09-30          NaN           NaN\n",
      "1997-12-31          NaN           NaN\n",
      "1998-03-31          NaN           NaN\n",
      "1998-06-30   -20.250124     -6.057252\n",
      "...                 ...           ...\n",
      "2022-12-31   -22.191358     -4.282775\n",
      "2023-03-31   -25.264907      2.899293\n",
      "2023-06-30   -23.676461      1.432652\n",
      "2023-09-30   -19.233501      4.176343\n",
      "2023-12-31    -8.378058      4.247217\n",
      "\n",
      "[107 rows x 2 columns]\n"
     ]
    }
   ],
   "source": [
    "# compute the CPI composite deflator index ratio using the formula calculate the ratio of the price index in 2019-10-31 through 2020-09-302021-12-31 to the price index in the current period.\n",
    "# create a fresh column called gdp_deflator_ratio and make it 100/'GDP_deflator_index_yr2021_100'\n",
    "df_merged['cpi_composite_deflator_ratio'] = 100 / df_merged['CPI_composite_index_yr2019oct_sept2020_100']\n",
    "\n",
    "# create a real_M1 column that is m1_total * cpi_composite_deflator_ratio\n",
    "df_merged['real_m1'] = df_merged['m1_total'] * df_merged['cpi_composite_deflator_ratio']\n",
    "\n",
    "# create a real_M2 column that is m2_total * cpi_composite_deflator_ratio\n",
    "df_merged['real_m2'] = df_merged['m2_total'] * df_merged['cpi_composite_deflator_ratio']\n",
    "\n",
    "# create columns that compute the year on year percentage change of GDP and real GDP\n",
    "# we use the formula ((current quarter - previous quarter) / previous quarter) * 100\n",
    "df_merged['real_m1_yoy'] = ((df_merged['real_m1'] / df_merged['real_m1'].shift(4))-1) * 100\n",
    "df_merged['m1_yoy'] = ((df_merged['m1_total'] / df_merged['m1_total'].shift(4))-1) * 100\n",
    "\n",
    "df_merged['real_m2_yoy'] = ((df_merged['real_m2'] / df_merged['real_m2'].shift(4))-1) * 100\n",
    "df_merged['m2_yoy'] = ((df_merged['m2_total'] / df_merged['m2_total'].shift(4))-1) * 100\n",
    "\n",
    "# compute the GDP deflator index ratio using the formula calculate the ratio of the price index in 2021-12-31 to the price index in the current period.\n",
    "# create a fresh column called gdp_deflator_ratio and make it 100/'GDP_deflator_index_yr2021_100'\n",
    "df_merged['gdp_deflator_ratio'] = 100 / df_merged['GDP_deflator_index_yr2021_100']\n",
    "\n",
    "# create a real_GDP column that is GDP_at_current_prices_HKDMillions * gdp_deflator_ratio\n",
    "df_merged['real_GDP'] = df_merged['GDP_at_current_prices_HKDMillions'] * df_merged['gdp_deflator_ratio']\n",
    "\n",
    "# create columns that compute the year on year percentage change of GDP and real GDP\n",
    "# the data is quarterly to ensure we are using the quarter from the previous year\n",
    "# we use the formula ((current quarter - previous quarter) / previous quarter) * 100\n",
    "df_merged['real_GDP_yoy'] = ((df_merged['real_GDP'] / df_merged['real_GDP'].shift(4))-1) * 100\n",
    "df_merged['GDP_yoy'] = ((df_merged['GDP_at_current_prices_HKDMillions'] / df_merged['GDP_at_current_prices_HKDMillions'].shift(4))-1) * 100\n",
    "\n",
    "# print date, real_m1_yoy and real_GDP_yoy\n",
    "print(df_merged[['real_m1_yoy', 'real_GDP_yoy']])"
   ]
  },
  {
   "cell_type": "markdown",
   "id": "029abc93-a80d-40c0-b4e0-727021cc4a47",
   "metadata": {},
   "source": [
    "The script then generated the periods of past Hong Kong recessions that would be overlayed onto the chart of real M1 annual growth. "
   ]
  },
  {
   "cell_type": "code",
   "execution_count": 28,
   "id": "76b1ba48-e4c4-46b9-b020-97eff0e77f06",
   "metadata": {},
   "outputs": [],
   "source": [
    "# Assuming the recession starts after two consecutive quarters of negative real GDP YoY change\n",
    "# and ends after two consecutive quarters of positive real GDP YoY change after it has started.\n",
    "# We will create lists to hold the start and end dates of recessions\n",
    "recession_starts = []\n",
    "recession_ends = []\n",
    "in_recession = False\n",
    "\n",
    "# Reset the DataFrame's index\n",
    "df_merged = df_merged.reset_index()\n",
    "\n",
    "# Loop through the DataFrame to identify the start and end dates\n",
    "for i in range(1, len(df_merged)):\n",
    "    if not in_recession and df_merged.loc[i-1, 'real_GDP_yoy'] < 0 and df_merged.loc[i, 'real_GDP_yoy'] < 0:\n",
    "        recession_starts.append(df_merged.loc[i, 'date'])\n",
    "        in_recession = True\n",
    "    elif in_recession and df_merged.loc[i-1, 'real_GDP_yoy'] >= 0 and df_merged.loc[i, 'real_GDP_yoy'] >= 0:\n",
    "        recession_ends.append(df_merged.loc[i-1, 'date'])\n",
    "        in_recession = False\n",
    "\n",
    "# Handling the case where the last period in the data is still in a recession\n",
    "if in_recession:\n",
    "    recession_ends.append(df_merged.loc[len(df_merged)-1, 'date'])"
   ]
  },
  {
   "cell_type": "markdown",
   "id": "74f6a54e-1daa-40e5-82cc-ff9e592aaa03",
   "metadata": {},
   "source": [
    "Chart plotted"
   ]
  },
  {
   "cell_type": "code",
   "execution_count": 30,
   "id": "447d6020-d561-4866-ad35-5c41eea9fb23",
   "metadata": {},
   "outputs": [
    {
     "data": {
      "image/png": "[encoded data removed]",
      "text/plain": [
       "<Figure size 1000x600 with 1 Axes>"
      ]
     },
     "metadata": {},
     "output_type": "display_data"
    }
   ],
   "source": [
    "# Ensure 'date' column is in datetime format\n",
    "df_merged['date'] = pd.to_datetime(df_merged['date'])\n",
    "\n",
    "# Now plot your charts with the recession periods highlighted\n",
    "fig, ax2 = plt.subplots(figsize=(10, 6))\n",
    "ax2.plot(df_merged['date'], df_merged['real_m1_yoy'], label='Real M1 annual growth', color='#003199')\n",
    "# Use the `pad` argument to add some space between the title and the plot\n",
    "ax2.set_title('Real M1 annual growth and Hong Kong recessions', pad=50, loc='left')\n",
    "ax2.set_xlabel('Date')\n",
    "ax2.set_ylabel('Percentage Change')\n",
    "\n",
    "# Shade the periods of recession\n",
    "for start, end in zip(recession_starts, recession_ends):\n",
    "    ax2.axvspan(pd.to_datetime(start), pd.to_datetime(end), color='grey', alpha=0.5)\n",
    "\n",
    "# Create a patch for the legend representing recessions\n",
    "recession_patch = mpatches.Patch(color='grey', alpha=0.5, label='Recession')\n",
    "\n",
    "# Set major ticks on the x-axis to 3 years intervals\n",
    "ax2.xaxis.set_major_locator(mdates.YearLocator(base=3))\n",
    "ax2.xaxis.set_major_formatter(mdates.DateFormatter('%Y'))\n",
    "\n",
    "plt.grid(True, color='grey', linestyle='-', linewidth=0.25, alpha=0.5)\n",
    "\n",
    "# Get handles and labels for the legend from the plot\n",
    "handles, labels = ax2.get_legend_handles_labels()\n",
    "# Add the recession patch to the handles for the legend\n",
    "handles.append(recession_patch)\n",
    "labels.append('Recession')\n",
    "\n",
    "# Adjust the figure to fit the legend and the title\n",
    "plt.subplots_adjust(top=0.75, bottom=0.15)\n",
    "\n",
    "# Use fig.legend() to place the legend below the title and to the left\n",
    "# Adjust the bbox_to_anchor y-value to lower the legend\n",
    "fig.legend(handles, labels, loc='upper left', bbox_to_anchor=(0.125, 0.85), frameon=False, ncol=1)\n",
    "\n",
    "# Add source to the chart\n",
    "source_text = \"Source: HK Monetary Authority, Hong Kong Census and Statistics Department\"\n",
    "fig.text(1, 0, source_text, ha='right', va='bottom')\n",
    "\n",
    "plt.show()"
   ]
  },
  {
   "cell_type": "markdown",
   "id": "0ec1166f-c898-4c53-a0c1-25be1b5942e9",
   "metadata": {},
   "source": [
    "A close examination of the chart will take place at a different time when a fuller appraisal of economic and monetary conditions is undertaken. But in terms of the past two recessions there appears to be a deceleration in narrow m1 growth ahead of the recession. And then once in the recession the change in narrow money seems to advance ahead of the recession ending. That being said the relationship appears less clear for the 2009 recession. More encouragingly perhaps is the recent abatement in the contraction in narrow money growth."
   ]
  },
  {
   "cell_type": "code",
   "execution_count": 42,
   "id": "4f5777d0-e36f-400d-8d10-d2bbb88c0727",
   "metadata": {},
   "outputs": [
    {
     "name": "stdout",
     "output_type": "stream",
     "text": [
      "          date recession_start recession_end\n",
      "5   1998-09-30      1998-09-30           NaT\n",
      "8   1999-06-30             NaT    1999-06-30\n",
      "19  2002-03-31      2002-03-31           NaT\n",
      "20  2002-06-30             NaT    2002-06-30\n",
      "47  2009-03-31      2009-03-31           NaT\n",
      "50  2009-12-31             NaT    2009-12-31\n",
      "90  2019-12-31      2019-12-31           NaT\n",
      "95  2021-03-31             NaT    2021-03-31\n",
      "100 2022-06-30      2022-06-30           NaT\n",
      "103 2023-03-31             NaT    2023-03-31\n"
     ]
    }
   ],
   "source": [
    "# Initialize the columns for recession start and end dates with NaN\n",
    "df_merged['recession_start'] = pd.NaT\n",
    "df_merged['recession_end'] = pd.NaT\n",
    "\n",
    "# We will use a flag to mark the ongoing recession status\n",
    "in_recession = False\n",
    "\n",
    "# Loop through the DataFrame to identify the start and end dates\n",
    "for i in range(1, len(df_merged)):\n",
    "    # Check for the start of a recession\n",
    "    if not in_recession and df_merged.loc[i-1, 'real_GDP_yoy'] < 0 and df_merged.loc[i, 'real_GDP_yoy'] < 0:\n",
    "        df_merged.at[i, 'recession_start'] = df_merged.loc[i, 'date']\n",
    "        in_recession = True\n",
    "    # Check for the end of a recession\n",
    "    elif in_recession and df_merged.loc[i-1, 'real_GDP_yoy'] >= 0 and df_merged.loc[i, 'real_GDP_yoy'] >= 0:\n",
    "        df_merged.at[i-1, 'recession_end'] = df_merged.loc[i-1, 'date']\n",
    "        in_recession = False\n",
    "\n",
    "# Handling the case where the last period in the data is still in a recession\n",
    "if in_recession:\n",
    "    df_merged.at[len(df_merged)-1, 'recession_end'] = df_merged.loc[len(df_merged)-1, 'date']\n",
    "\n",
    "# Print the rows where recessions start or end for verification\n",
    "print(df_merged.dropna(subset=['recession_start', 'recession_end'], how='all')[['date', 'recession_start', 'recession_end']])"
   ]
  },
  {
   "cell_type": "markdown",
   "id": "eb31ba4b-5dac-4129-a43d-08d1f86e2462",
   "metadata": {},
   "source": [
    "Several statistical tests are performed on the real change in narrow money and gdp series to examine the relationship between the two series. The tests run were: Granger causality test; Augmented Dickey-Fuller test for stationarity; and, a test for cointegration. In the first case it was found that at the significance level of 0.05 there appears to be a leading relationship between the change in real money (variable 1) and the change in real gdp that was especially strong at three quarters but also significant at one and two quarters. The Augmented Dickey-Fuller test however showed that both series were non stationary. And there appeared little cointegration between the two series suggesting little evidence of a long run relationship between the two variables. "
   ]
  },
  {
   "cell_type": "code",
   "execution_count": 43,
   "id": "99fdd3f7-fab0-4428-aa8f-eaa590ec379d",
   "metadata": {},
   "outputs": [
    {
     "name": "stdout",
     "output_type": "stream",
     "text": [
      "          date  real_m1_yoy  real_GDP_yoy\n",
      "4   1998-06-30   -20.250124     -6.057252\n",
      "5   1998-09-30   -17.687111     -8.324043\n",
      "6   1998-12-31    -3.490795     -6.256604\n",
      "7   1999-03-31     1.783722     -3.061391\n",
      "8   1999-06-30    11.517173      0.478816\n",
      "..         ...          ...           ...\n",
      "102 2022-12-31   -22.191358     -4.282775\n",
      "103 2023-03-31   -25.264907      2.899293\n",
      "104 2023-06-30   -23.676461      1.432652\n",
      "105 2023-09-30   -19.233501      4.176343\n",
      "106 2023-12-31    -8.378058      4.247217\n",
      "\n",
      "[103 rows x 3 columns]\n",
      "\n",
      "Granger Causality\n",
      "number of lags (no zero) 1\n",
      "ssr based F test:         F=12.9549 , p=0.0005  , df_denom=99, df_num=1\n",
      "ssr based chi2 test:   chi2=13.3475 , p=0.0003  , df=1\n",
      "likelihood ratio test: chi2=12.5436 , p=0.0004  , df=1\n",
      "parameter F test:         F=12.9549 , p=0.0005  , df_denom=99, df_num=1\n",
      "\n",
      "Granger Causality\n",
      "number of lags (no zero) 2\n",
      "ssr based F test:         F=5.9005  , p=0.0038  , df_denom=96, df_num=2\n",
      "ssr based chi2 test:   chi2=12.4156 , p=0.0020  , df=2\n",
      "likelihood ratio test: chi2=11.7098 , p=0.0029  , df=2\n",
      "parameter F test:         F=5.9005  , p=0.0038  , df_denom=96, df_num=2\n",
      "\n",
      "Granger Causality\n",
      "number of lags (no zero) 3\n",
      "ssr based F test:         F=8.4303  , p=0.0001  , df_denom=93, df_num=3\n",
      "ssr based chi2 test:   chi2=27.1946 , p=0.0000  , df=3\n",
      "likelihood ratio test: chi2=24.0548 , p=0.0000  , df=3\n",
      "parameter F test:         F=8.4303  , p=0.0001  , df_denom=93, df_num=3\n",
      "\n",
      "Granger Causality\n",
      "number of lags (no zero) 4\n",
      "ssr based F test:         F=5.6640  , p=0.0004  , df_denom=90, df_num=4\n",
      "ssr based chi2 test:   chi2=24.9218 , p=0.0001  , df=4\n",
      "likelihood ratio test: chi2=22.2286 , p=0.0002  , df=4\n",
      "parameter F test:         F=5.6640  , p=0.0004  , df_denom=90, df_num=4\n",
      "\n",
      "Granger Causality\n",
      "number of lags (no zero) 5\n",
      "ssr based F test:         F=2.8011  , p=0.0215  , df_denom=87, df_num=5\n",
      "ssr based chi2 test:   chi2=15.7764 , p=0.0075  , df=5\n",
      "likelihood ratio test: chi2=14.6282 , p=0.0121  , df=5\n",
      "parameter F test:         F=2.8011  , p=0.0215  , df_denom=87, df_num=5\n"
     ]
    }
   ],
   "source": [
    "# Combine into a DataFrame\n",
    "data = df_merged[['date', 'real_m1_yoy', 'real_GDP_yoy']]\n",
    "\n",
    "# Drop rows with NaN values\n",
    "data = data.dropna()\n",
    "\n",
    "# print\n",
    "print(data)\n",
    "\n",
    "# Perform Granger causality test \n",
    "max_lag = 5\n",
    "test_result = grangercausalitytests(data[['real_GDP_yoy', 'real_m1_yoy']], max_lag)\n"
   ]
  },
  {
   "cell_type": "code",
   "execution_count": 44,
   "id": "1bb7b7a9-ca1f-4c11-9037-0c1142cf31b3",
   "metadata": {},
   "outputs": [
    {
     "name": "stdout",
     "output_type": "stream",
     "text": [
      "Augmented Dickey-Fuller Test: real_m1_yoy\n",
      "ADF test statistic        -2.104748\n",
      "p-value                    0.242610\n",
      "# lags used               13.000000\n",
      "Number of observations    89.000000\n",
      "Critical value (1%)       -3.506057\n",
      "Critical value (5%)       -2.894607\n",
      "Critical value (10%)      -2.584410\n",
      "Weak evidence against the null hypothesis, time series has a unit root, indicating it is non-stationary \n",
      "Augmented Dickey-Fuller Test: real_GDP_yoy\n",
      "ADF test statistic        -1.543705\n",
      "p-value                    0.511791\n",
      "# lags used               12.000000\n",
      "Number of observations    90.000000\n",
      "Critical value (1%)       -3.505190\n",
      "Critical value (5%)       -2.894232\n",
      "Critical value (10%)      -2.584210\n",
      "Weak evidence against the null hypothesis, time series has a unit root, indicating it is non-stationary \n"
     ]
    }
   ],
   "source": [
    "def adf_test(series, title=''):\n",
    "    \"\"\"\n",
    "    Perform Augmented Dickey-Fuller test on a time series to assess its stationarity\n",
    "    \"\"\"\n",
    "    print(f'Augmented Dickey-Fuller Test: {title}')\n",
    "    result = adfuller(series, autolag='AIC')  # Let the test choose the best lag\n",
    "    labels = ['ADF test statistic', 'p-value', '# lags used', 'Number of observations']\n",
    "    out = pd.Series(result[0:4], index=labels)\n",
    "\n",
    "    for key, value in result[4].items():\n",
    "        out[f'Critical value ({key})'] = value\n",
    "    print(out.to_string())  # Print the results\n",
    "    \n",
    "    if result[1] <= 0.05:\n",
    "        print(\"Strong evidence against the null hypothesis(Ho), reject the null hypothesis. Data has no unit root and is stationary\")\n",
    "    else:\n",
    "        print(\"Weak evidence against the null hypothesis, time series has a unit root, indicating it is non-stationary \")\n",
    "\n",
    "# Apply the ADF test on each variable\n",
    "adf_test(data['real_m1_yoy'], 'real_m1_yoy')\n",
    "adf_test(data['real_GDP_yoy'], 'real_GDP_yoy')"
   ]
  },
  {
   "cell_type": "code",
   "execution_count": 41,
   "id": "8792eede-3bf3-499f-97e8-0eb61bfb257c",
   "metadata": {},
   "outputs": [
    {
     "name": "stdout",
     "output_type": "stream",
     "text": [
      "Cointegration test results:\n",
      "Test statistic: -3.2911542974204253\n",
      "P-value: 0.05595994612676716\n",
      "Critical values (1%, 5%, 10%):\n",
      "  1%: -4.007034079200308\n",
      "  5%: -3.3966887466359093\n",
      " 10%: -3.0862918300653592\n",
      "There is not enough evidence to reject the null hypothesis of no cointegration.\n",
      "This suggests that the two time series do not have a long-term equilibrium relationship.\n"
     ]
    }
   ],
   "source": [
    "def perform_cointegration_test(variable1, variable2):\n",
    "    \"\"\"\n",
    "    Perform Engle-Granger cointegration test on two time series.\n",
    "    \"\"\"\n",
    "    coint_test_statistic, p_value, critical_values = coint(variable1, variable2)\n",
    "    print(\"Cointegration test results:\")\n",
    "    print(f\"Test statistic: {coint_test_statistic}\")\n",
    "    print(f\"P-value: {p_value}\")\n",
    "    print(\"Critical values (1%, 5%, 10%):\")\n",
    "    print(f\"  1%: {critical_values[0]}\")\n",
    "    print(f\"  5%: {critical_values[1]}\")\n",
    "    print(f\" 10%: {critical_values[2]}\")\n",
    "    \n",
    "    if p_value < 0.05:\n",
    "        print(\"There is evidence to reject the null hypothesis of no cointegration at the 5% significance level.\")\n",
    "        print(\"This suggests that there is a long-term equilibrium relationship between the two time series.\")\n",
    "    else:\n",
    "        print(\"There is not enough evidence to reject the null hypothesis of no cointegration.\")\n",
    "        print(\"This suggests that the two time series do not have a long-term equilibrium relationship.\")\n",
    "\n",
    "# Perform the cointegration test on your time series data\n",
    "perform_cointegration_test(data['real_m1_yoy'], data['real_GDP_yoy'])"
   ]
  }
 ],
 "metadata": {
  "kernelspec": {
   "display_name": "Python 3 (ipykernel)",
   "language": "python",
   "name": "python3"
  },
  "language_info": {
   "codemirror_mode": {
    "name": "ipython",
    "version": 3
   },
   "file_extension": ".py",
   "mimetype": "text/x-python",
   "name": "python",
   "nbconvert_exporter": "python",
   "pygments_lexer": "ipython3",
   "version": "3.12.1"
  }
 },
 "nbformat": 4,
 "nbformat_minor": 5
}
