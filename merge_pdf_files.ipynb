{
 "cells": [
  {
   "cell_type": "markdown",
   "id": "dba80c42-4d40-48f2-adeb-022f238b4294",
   "metadata": {},
   "source": [
    "# Exploratory: merge several pdf into one"
   ]
  },
  {
   "cell_type": "markdown",
   "id": "1347489e-9f24-4a6b-9493-fd8725ba8926",
   "metadata": {},
   "source": [
    "## Setup packages"
   ]
  },
  {
   "cell_type": "code",
   "execution_count": 1,
   "id": "4832cf8e-7efd-4c66-b0d7-3df46eb0233a",
   "metadata": {},
   "outputs": [],
   "source": [
    "import os\n",
    "import PyPDF2"
   ]
  },
  {
   "cell_type": "markdown",
   "id": "9130056d-8d6e-4906-984f-58ec805d3baf",
   "metadata": {},
   "source": [
    "## Define a function"
   ]
  },
  {
   "cell_type": "code",
   "execution_count": null,
   "id": "dbce7824-4407-4f77-99a5-2d520a07a2a2",
   "metadata": {},
   "outputs": [],
   "source": [
    "def merge_pdfs(paths, output):\n",
    "    pdf_writer = PyPDF2.PdfWriter()\n",
    "    \n",
    "    for path in paths:\n",
    "        full_path = os.path.join(directory_path, path)  # Ensure you define directory_path correctly as shown in the previous response\n",
    "        pdf_reader = PyPDF2.PdfReader(full_path)\n",
    "        for page in range(len(pdf_reader.pages)):\n",
    "            pdf_writer.add_page(pdf_reader.pages[page])\n",
    "    \n",
    "    with open(output, 'wb') as out:\n",
    "        pdf_writer.write(out)"
   ]
  },
  {
   "cell_type": "markdown",
   "id": "007f7382-d356-42e6-a117-58458befd028",
   "metadata": {},
   "source": [
    "## Set path of directory and list file names to merge "
   ]
  },
  {
   "cell_type": "code",
   "execution_count": 3,
   "id": "943fed2c-e996-431d-a31c-7d12676ec224",
   "metadata": {},
   "outputs": [
    {
     "ename": "SyntaxError",
     "evalue": "unterminated string literal (detected at line 3) (1891311065.py, line 3)",
     "output_type": "error",
     "traceback": [
      "\u001b[1;36m  Cell \u001b[1;32mIn[3], line 3\u001b[1;36m\u001b[0m\n\u001b[1;33m    paths = ['Replace with pdf file names in directory ]\u001b[0m\n\u001b[1;37m             ^\u001b[0m\n\u001b[1;31mSyntaxError\u001b[0m\u001b[1;31m:\u001b[0m unterminated string literal (detected at line 3)\n"
     ]
    }
   ],
   "source": [
    "if __name__ == '__main__':\n",
    "    directory_path = 'Replace with directory path'\n",
    "    paths = ['Replace with pdf file names in directory ]"
   ]
  },
  {
   "cell_type": "markdown",
   "id": "12ff897f-06dd-49fc-96ac-e4f78dffcdb0",
   "metadata": {},
   "source": [
    "## Set output file"
   ]
  },
  {
   "cell_type": "code",
   "execution_count": 4,
   "id": "6568e7d8-3e6b-44b1-8779-bdcd314f22d1",
   "metadata": {},
   "outputs": [],
   "source": [
    "output = 'merged.pdf'"
   ]
  },
  {
   "cell_type": "markdown",
   "id": "f4604248-7858-4bf6-bcf6-b10ccde6da20",
   "metadata": {},
   "source": [
    "## Run the function"
   ]
  },
  {
   "cell_type": "code",
   "execution_count": 5,
   "id": "9fef5f02-afa3-4004-8444-a3529263a8f1",
   "metadata": {},
   "outputs": [
    {
     "ename": "NameError",
     "evalue": "name 'merge_pdfs' is not defined",
     "output_type": "error",
     "traceback": [
      "\u001b[1;31m---------------------------------------------------------------------------\u001b[0m",
      "\u001b[1;31mNameError\u001b[0m                                 Traceback (most recent call last)",
      "Cell \u001b[1;32mIn[5], line 1\u001b[0m\n\u001b[1;32m----> 1\u001b[0m \u001b[43mmerge_pdfs\u001b[49m(paths, output)\n",
      "\u001b[1;31mNameError\u001b[0m: name 'merge_pdfs' is not defined"
     ]
    }
   ],
   "source": [
    "merge_pdfs(paths, output)\n"
   ]
  }
 ],
 "metadata": {
  "kernelspec": {
   "display_name": "Python 3 (ipykernel)",
   "language": "python",
   "name": "python3"
  },
  "language_info": {
   "codemirror_mode": {
    "name": "ipython",
    "version": 3
   },
   "file_extension": ".py",
   "mimetype": "text/x-python",
   "name": "python",
   "nbconvert_exporter": "python",
   "pygments_lexer": "ipython3",
   "version": "3.12.1"
  }
 },
 "nbformat": 4,
 "nbformat_minor": 5
}
